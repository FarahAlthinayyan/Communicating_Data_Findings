{
 "cells": [
  {
   "cell_type": "markdown",
   "metadata": {},
   "source": [
    "### Explanation of Ford GoBike System Data\n",
    "\n",
    "I chose the Bay Wheels bicycle sharing service. This service is provided to supporting bicycling as an alternative transportation option. There is a lot of information within this dataset that I haven't expected to find. There are in total fourteen columns, and all issues were resolved. All findings will be titled as 'Findings #'. \n",
    "\n"
   ]
  },
  {
   "cell_type": "markdown",
   "metadata": {},
   "source": [
    "All the following imports are needed for running the code."
   ]
  },
  {
   "cell_type": "code",
   "execution_count": 1,
   "metadata": {},
   "outputs": [],
   "source": [
    "# all needed libraries imported here \n",
    "import pandas as pd\n",
    "import numpy as np \n",
    "import os\n",
    "import glob\n",
    "import matplotlib.pyplot as plt\n",
    "import seaborn as sb\n",
    "from datetime import datetime"
   ]
  },
  {
   "cell_type": "code",
   "execution_count": null,
   "metadata": {},
   "outputs": [],
   "source": [
    "\n",
    "df_clean = pd.read_csv('master_fordgobike_tripdata.csv')"
   ]
  },
  {
   "cell_type": "code",
   "execution_count": null,
   "metadata": {},
   "outputs": [],
   "source": [
    "base_color = sb.color.palette()[0]"
   ]
  },
  {
   "cell_type": "markdown",
   "metadata": {},
   "source": [
    "***TODO: fill it***"
   ]
  },
  {
   "cell_type": "code",
   "execution_count": null,
   "metadata": {},
   "outputs": [],
   "source": [
    "sb.countplot(data = df_clean, x='bike_share_for_all_trip', color = base_color)\n",
    "plt.xlabel('bike share for all the trip')\n",
    "\n",
    "n_points = df_clean.shape[0]\n",
    "bike_share_counts = df_clean['bike_share_for_all_trip'].value_counts()\n",
    "locs, labels = plt.xticks()\n",
    "\n",
    "for loc,label in zip(locs, labels):\n",
    "    \n",
    "    count = bike_share_counts[label.get_text()]\n",
    "    pct_string = '{:0.1}%'.format(100*count/n_points)\n",
    "    \n",
    "    plt.text(loc, count-8, pct_string, ha = 'center', color = 'k')\n"
   ]
  },
  {
   "cell_type": "code",
   "execution_count": null,
   "metadata": {},
   "outputs": [],
   "source": []
  }
 ],
 "metadata": {
  "kernelspec": {
   "display_name": "Python 3",
   "language": "python",
   "name": "python3"
  },
  "language_info": {
   "codemirror_mode": {
    "name": "ipython",
    "version": 3
   },
   "file_extension": ".py",
   "mimetype": "text/x-python",
   "name": "python",
   "nbconvert_exporter": "python",
   "pygments_lexer": "ipython3",
   "version": "3.7.7"
  }
 },
 "nbformat": 4,
 "nbformat_minor": 4
}
