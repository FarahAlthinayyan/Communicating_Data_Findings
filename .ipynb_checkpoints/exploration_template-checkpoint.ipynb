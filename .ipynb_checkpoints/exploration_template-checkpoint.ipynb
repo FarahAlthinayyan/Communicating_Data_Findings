{
 "cells": [
  {
   "cell_type": "markdown",
   "metadata": {},
   "source": [
    "## Exploring Dataset\n",
    "\n",
    "some steps to follow:\n",
    "- Introduce the dataset. \n",
    "- Systematically walk through the points of exploration that you conducted.\n",
    "- You should have headers and text that organize your thoughts and findings.\n",
    "- Don’t forget to export the notebook as an html file for the project submission.\n",
    "\n",
    "##### Create your Slide Deck Later: this is where Explanation comes in.\n",
    "\n",
    "\n",
    "For now, I should start  a clear understanding of the data. "
   ]
  },
  {
   "cell_type": "markdown",
   "metadata": {},
   "source": [
    "### Gathering Data "
   ]
  },
  {
   "cell_type": "code",
   "execution_count": 1,
   "metadata": {},
   "outputs": [],
   "source": [
    "# all needed libraries imported here \n",
    "import pandas as pd\n",
    "import numpy as np \n",
    "import os\n",
    "import glob\n",
    "import matplotlib.pyplot as plt\n",
    "import seaborn as sb\n",
    "from datetime import datetime\n",
    "\n",
    "%matplotlib inline"
   ]
  },
  {
   "cell_type": "code",
   "execution_count": 2,
   "metadata": {},
   "outputs": [],
   "source": [
    "#read and combine using glob.glob()\n",
    "all_filenames = [i for i in glob.glob('Data\\*.csv')]\n"
   ]
  },
  {
   "cell_type": "code",
   "execution_count": 3,
   "metadata": {},
   "outputs": [],
   "source": [
    "#read all csv files in one dataset\n",
    "df = pd.concat([pd.read_csv(file, dtype ={'rental_access_method': object, 'bike_share_for_all_trip' : object } ) for file in all_filenames], ignore_index=True)\n"
   ]
  },
  {
   "cell_type": "code",
   "execution_count": 4,
   "metadata": {},
   "outputs": [],
   "source": [
    "#df.to_csv( \"full_fordgobike-tripdata.csv\", index=False)\n"
   ]
  },
  {
   "cell_type": "markdown",
   "metadata": {},
   "source": [
    "### Assessing Data "
   ]
  },
  {
   "cell_type": "markdown",
   "metadata": {},
   "source": [
    "##### Now, I would like to check for existing quality issues and tidiness issues and fix them if possible \n",
    "\n",
    "##### Quality issues:\n",
    "- There are some missing values in the following columns = {'start_station_id', 'start_station_name', 'end_station_id', 'end_station_name', 'bike_share_for_all_trip', 'rental_access_method' }\n",
    "- Data columns={start_time and end_time} have faulty datatypes because they should have been date values \n",
    "- start_station_id and end_station_id both have missing values and wrong datatypes. The Datatypes should have been int but it is float. \n",
    "- Duration has faulty values. "
   ]
  },
  {
   "cell_type": "code",
   "execution_count": 5,
   "metadata": {
    "scrolled": true
   },
   "outputs": [
    {
     "data": {
      "text/html": [
       "<div>\n",
       "<style scoped>\n",
       "    .dataframe tbody tr th:only-of-type {\n",
       "        vertical-align: middle;\n",
       "    }\n",
       "\n",
       "    .dataframe tbody tr th {\n",
       "        vertical-align: top;\n",
       "    }\n",
       "\n",
       "    .dataframe thead th {\n",
       "        text-align: right;\n",
       "    }\n",
       "</style>\n",
       "<table border=\"1\" class=\"dataframe\">\n",
       "  <thead>\n",
       "    <tr style=\"text-align: right;\">\n",
       "      <th></th>\n",
       "      <th>duration_sec</th>\n",
       "      <th>start_time</th>\n",
       "      <th>end_time</th>\n",
       "      <th>start_station_id</th>\n",
       "      <th>start_station_name</th>\n",
       "      <th>start_station_latitude</th>\n",
       "      <th>start_station_longitude</th>\n",
       "      <th>end_station_id</th>\n",
       "      <th>end_station_name</th>\n",
       "      <th>end_station_latitude</th>\n",
       "      <th>end_station_longitude</th>\n",
       "      <th>bike_id</th>\n",
       "      <th>user_type</th>\n",
       "      <th>bike_share_for_all_trip</th>\n",
       "      <th>rental_access_method</th>\n",
       "    </tr>\n",
       "  </thead>\n",
       "  <tbody>\n",
       "    <tr>\n",
       "      <th>0</th>\n",
       "      <td>80110</td>\n",
       "      <td>2017-12-31 16:57:39.6540</td>\n",
       "      <td>2018-01-01 15:12:50.2450</td>\n",
       "      <td>74.0</td>\n",
       "      <td>Laguna St at Hayes St</td>\n",
       "      <td>37.776435</td>\n",
       "      <td>-122.426244</td>\n",
       "      <td>43.0</td>\n",
       "      <td>San Francisco Public Library (Grove St at Hyde...</td>\n",
       "      <td>37.778768</td>\n",
       "      <td>-122.415929</td>\n",
       "      <td>96</td>\n",
       "      <td>Customer</td>\n",
       "      <td>NaN</td>\n",
       "      <td>NaN</td>\n",
       "    </tr>\n",
       "    <tr>\n",
       "      <th>1</th>\n",
       "      <td>78800</td>\n",
       "      <td>2017-12-31 15:56:34.8420</td>\n",
       "      <td>2018-01-01 13:49:55.6170</td>\n",
       "      <td>284.0</td>\n",
       "      <td>Yerba Buena Center for the Arts (Howard St at ...</td>\n",
       "      <td>37.784872</td>\n",
       "      <td>-122.400876</td>\n",
       "      <td>96.0</td>\n",
       "      <td>Dolores St at 15th St</td>\n",
       "      <td>37.766210</td>\n",
       "      <td>-122.426614</td>\n",
       "      <td>88</td>\n",
       "      <td>Customer</td>\n",
       "      <td>NaN</td>\n",
       "      <td>NaN</td>\n",
       "    </tr>\n",
       "    <tr>\n",
       "      <th>2</th>\n",
       "      <td>45768</td>\n",
       "      <td>2017-12-31 22:45:48.4110</td>\n",
       "      <td>2018-01-01 11:28:36.8830</td>\n",
       "      <td>245.0</td>\n",
       "      <td>Downtown Berkeley BART</td>\n",
       "      <td>37.870348</td>\n",
       "      <td>-122.267764</td>\n",
       "      <td>245.0</td>\n",
       "      <td>Downtown Berkeley BART</td>\n",
       "      <td>37.870348</td>\n",
       "      <td>-122.267764</td>\n",
       "      <td>1094</td>\n",
       "      <td>Customer</td>\n",
       "      <td>NaN</td>\n",
       "      <td>NaN</td>\n",
       "    </tr>\n",
       "    <tr>\n",
       "      <th>3</th>\n",
       "      <td>62172</td>\n",
       "      <td>2017-12-31 17:31:10.6360</td>\n",
       "      <td>2018-01-01 10:47:23.5310</td>\n",
       "      <td>60.0</td>\n",
       "      <td>8th St at Ringold St</td>\n",
       "      <td>37.774520</td>\n",
       "      <td>-122.409449</td>\n",
       "      <td>5.0</td>\n",
       "      <td>Powell St BART Station (Market St at 5th St)</td>\n",
       "      <td>37.783899</td>\n",
       "      <td>-122.408445</td>\n",
       "      <td>2831</td>\n",
       "      <td>Customer</td>\n",
       "      <td>NaN</td>\n",
       "      <td>NaN</td>\n",
       "    </tr>\n",
       "    <tr>\n",
       "      <th>4</th>\n",
       "      <td>43603</td>\n",
       "      <td>2017-12-31 14:23:14.0010</td>\n",
       "      <td>2018-01-01 02:29:57.5710</td>\n",
       "      <td>239.0</td>\n",
       "      <td>Bancroft Way at Telegraph Ave</td>\n",
       "      <td>37.868813</td>\n",
       "      <td>-122.258764</td>\n",
       "      <td>247.0</td>\n",
       "      <td>Fulton St at Bancroft Way</td>\n",
       "      <td>37.867789</td>\n",
       "      <td>-122.265896</td>\n",
       "      <td>3167</td>\n",
       "      <td>Subscriber</td>\n",
       "      <td>NaN</td>\n",
       "      <td>NaN</td>\n",
       "    </tr>\n",
       "    <tr>\n",
       "      <th>5</th>\n",
       "      <td>9226</td>\n",
       "      <td>2017-12-31 22:51:00.9180</td>\n",
       "      <td>2018-01-01 01:24:47.1660</td>\n",
       "      <td>30.0</td>\n",
       "      <td>San Francisco Caltrain (Townsend St at 4th St)</td>\n",
       "      <td>37.776598</td>\n",
       "      <td>-122.395282</td>\n",
       "      <td>30.0</td>\n",
       "      <td>San Francisco Caltrain (Townsend St at 4th St)</td>\n",
       "      <td>37.776598</td>\n",
       "      <td>-122.395282</td>\n",
       "      <td>1487</td>\n",
       "      <td>Customer</td>\n",
       "      <td>NaN</td>\n",
       "      <td>NaN</td>\n",
       "    </tr>\n",
       "    <tr>\n",
       "      <th>6</th>\n",
       "      <td>4507</td>\n",
       "      <td>2017-12-31 23:49:28.4220</td>\n",
       "      <td>2018-01-01 01:04:35.6190</td>\n",
       "      <td>259.0</td>\n",
       "      <td>Addison St at Fourth St</td>\n",
       "      <td>37.866249</td>\n",
       "      <td>-122.299371</td>\n",
       "      <td>259.0</td>\n",
       "      <td>Addison St at Fourth St</td>\n",
       "      <td>37.866249</td>\n",
       "      <td>-122.299371</td>\n",
       "      <td>3539</td>\n",
       "      <td>Customer</td>\n",
       "      <td>NaN</td>\n",
       "      <td>NaN</td>\n",
       "    </tr>\n",
       "    <tr>\n",
       "      <th>7</th>\n",
       "      <td>4334</td>\n",
       "      <td>2017-12-31 23:46:37.1960</td>\n",
       "      <td>2018-01-01 00:58:51.2110</td>\n",
       "      <td>284.0</td>\n",
       "      <td>Yerba Buena Center for the Arts (Howard St at ...</td>\n",
       "      <td>37.784872</td>\n",
       "      <td>-122.400876</td>\n",
       "      <td>284.0</td>\n",
       "      <td>Yerba Buena Center for the Arts (Howard St at ...</td>\n",
       "      <td>37.784872</td>\n",
       "      <td>-122.400876</td>\n",
       "      <td>1503</td>\n",
       "      <td>Customer</td>\n",
       "      <td>NaN</td>\n",
       "      <td>NaN</td>\n",
       "    </tr>\n",
       "    <tr>\n",
       "      <th>8</th>\n",
       "      <td>4150</td>\n",
       "      <td>2017-12-31 23:37:07.5480</td>\n",
       "      <td>2018-01-01 00:46:18.3080</td>\n",
       "      <td>20.0</td>\n",
       "      <td>Mechanics Monument Plaza (Market St at Bush St)</td>\n",
       "      <td>37.791300</td>\n",
       "      <td>-122.399051</td>\n",
       "      <td>20.0</td>\n",
       "      <td>Mechanics Monument Plaza (Market St at Bush St)</td>\n",
       "      <td>37.791300</td>\n",
       "      <td>-122.399051</td>\n",
       "      <td>3125</td>\n",
       "      <td>Customer</td>\n",
       "      <td>NaN</td>\n",
       "      <td>NaN</td>\n",
       "    </tr>\n",
       "    <tr>\n",
       "      <th>9</th>\n",
       "      <td>4238</td>\n",
       "      <td>2017-12-31 23:35:38.1450</td>\n",
       "      <td>2018-01-01 00:46:17.0530</td>\n",
       "      <td>20.0</td>\n",
       "      <td>Mechanics Monument Plaza (Market St at Bush St)</td>\n",
       "      <td>37.791300</td>\n",
       "      <td>-122.399051</td>\n",
       "      <td>20.0</td>\n",
       "      <td>Mechanics Monument Plaza (Market St at Bush St)</td>\n",
       "      <td>37.791300</td>\n",
       "      <td>-122.399051</td>\n",
       "      <td>2543</td>\n",
       "      <td>Customer</td>\n",
       "      <td>NaN</td>\n",
       "      <td>NaN</td>\n",
       "    </tr>\n",
       "  </tbody>\n",
       "</table>\n",
       "</div>"
      ],
      "text/plain": [
       "   duration_sec                start_time                  end_time  \\\n",
       "0         80110  2017-12-31 16:57:39.6540  2018-01-01 15:12:50.2450   \n",
       "1         78800  2017-12-31 15:56:34.8420  2018-01-01 13:49:55.6170   \n",
       "2         45768  2017-12-31 22:45:48.4110  2018-01-01 11:28:36.8830   \n",
       "3         62172  2017-12-31 17:31:10.6360  2018-01-01 10:47:23.5310   \n",
       "4         43603  2017-12-31 14:23:14.0010  2018-01-01 02:29:57.5710   \n",
       "5          9226  2017-12-31 22:51:00.9180  2018-01-01 01:24:47.1660   \n",
       "6          4507  2017-12-31 23:49:28.4220  2018-01-01 01:04:35.6190   \n",
       "7          4334  2017-12-31 23:46:37.1960  2018-01-01 00:58:51.2110   \n",
       "8          4150  2017-12-31 23:37:07.5480  2018-01-01 00:46:18.3080   \n",
       "9          4238  2017-12-31 23:35:38.1450  2018-01-01 00:46:17.0530   \n",
       "\n",
       "   start_station_id                                 start_station_name  \\\n",
       "0              74.0                              Laguna St at Hayes St   \n",
       "1             284.0  Yerba Buena Center for the Arts (Howard St at ...   \n",
       "2             245.0                             Downtown Berkeley BART   \n",
       "3              60.0                               8th St at Ringold St   \n",
       "4             239.0                      Bancroft Way at Telegraph Ave   \n",
       "5              30.0     San Francisco Caltrain (Townsend St at 4th St)   \n",
       "6             259.0                            Addison St at Fourth St   \n",
       "7             284.0  Yerba Buena Center for the Arts (Howard St at ...   \n",
       "8              20.0    Mechanics Monument Plaza (Market St at Bush St)   \n",
       "9              20.0    Mechanics Monument Plaza (Market St at Bush St)   \n",
       "\n",
       "   start_station_latitude  start_station_longitude  end_station_id  \\\n",
       "0               37.776435              -122.426244            43.0   \n",
       "1               37.784872              -122.400876            96.0   \n",
       "2               37.870348              -122.267764           245.0   \n",
       "3               37.774520              -122.409449             5.0   \n",
       "4               37.868813              -122.258764           247.0   \n",
       "5               37.776598              -122.395282            30.0   \n",
       "6               37.866249              -122.299371           259.0   \n",
       "7               37.784872              -122.400876           284.0   \n",
       "8               37.791300              -122.399051            20.0   \n",
       "9               37.791300              -122.399051            20.0   \n",
       "\n",
       "                                    end_station_name  end_station_latitude  \\\n",
       "0  San Francisco Public Library (Grove St at Hyde...             37.778768   \n",
       "1                              Dolores St at 15th St             37.766210   \n",
       "2                             Downtown Berkeley BART             37.870348   \n",
       "3       Powell St BART Station (Market St at 5th St)             37.783899   \n",
       "4                          Fulton St at Bancroft Way             37.867789   \n",
       "5     San Francisco Caltrain (Townsend St at 4th St)             37.776598   \n",
       "6                            Addison St at Fourth St             37.866249   \n",
       "7  Yerba Buena Center for the Arts (Howard St at ...             37.784872   \n",
       "8    Mechanics Monument Plaza (Market St at Bush St)             37.791300   \n",
       "9    Mechanics Monument Plaza (Market St at Bush St)             37.791300   \n",
       "\n",
       "   end_station_longitude  bike_id   user_type bike_share_for_all_trip  \\\n",
       "0            -122.415929       96    Customer                     NaN   \n",
       "1            -122.426614       88    Customer                     NaN   \n",
       "2            -122.267764     1094    Customer                     NaN   \n",
       "3            -122.408445     2831    Customer                     NaN   \n",
       "4            -122.265896     3167  Subscriber                     NaN   \n",
       "5            -122.395282     1487    Customer                     NaN   \n",
       "6            -122.299371     3539    Customer                     NaN   \n",
       "7            -122.400876     1503    Customer                     NaN   \n",
       "8            -122.399051     3125    Customer                     NaN   \n",
       "9            -122.399051     2543    Customer                     NaN   \n",
       "\n",
       "  rental_access_method  \n",
       "0                  NaN  \n",
       "1                  NaN  \n",
       "2                  NaN  \n",
       "3                  NaN  \n",
       "4                  NaN  \n",
       "5                  NaN  \n",
       "6                  NaN  \n",
       "7                  NaN  \n",
       "8                  NaN  \n",
       "9                  NaN  "
      ]
     },
     "execution_count": 5,
     "metadata": {},
     "output_type": "execute_result"
    }
   ],
   "source": [
    "df.head(10)"
   ]
  },
  {
   "cell_type": "code",
   "execution_count": 6,
   "metadata": {
    "scrolled": true
   },
   "outputs": [
    {
     "data": {
      "text/html": [
       "<div>\n",
       "<style scoped>\n",
       "    .dataframe tbody tr th:only-of-type {\n",
       "        vertical-align: middle;\n",
       "    }\n",
       "\n",
       "    .dataframe tbody tr th {\n",
       "        vertical-align: top;\n",
       "    }\n",
       "\n",
       "    .dataframe thead th {\n",
       "        text-align: right;\n",
       "    }\n",
       "</style>\n",
       "<table border=\"1\" class=\"dataframe\">\n",
       "  <thead>\n",
       "    <tr style=\"text-align: right;\">\n",
       "      <th></th>\n",
       "      <th>duration_sec</th>\n",
       "      <th>start_time</th>\n",
       "      <th>end_time</th>\n",
       "      <th>start_station_id</th>\n",
       "      <th>start_station_name</th>\n",
       "      <th>start_station_latitude</th>\n",
       "      <th>start_station_longitude</th>\n",
       "      <th>end_station_id</th>\n",
       "      <th>end_station_name</th>\n",
       "      <th>end_station_latitude</th>\n",
       "      <th>end_station_longitude</th>\n",
       "      <th>bike_id</th>\n",
       "      <th>user_type</th>\n",
       "      <th>bike_share_for_all_trip</th>\n",
       "      <th>rental_access_method</th>\n",
       "    </tr>\n",
       "  </thead>\n",
       "  <tbody>\n",
       "    <tr>\n",
       "      <th>4890394</th>\n",
       "      <td>2336</td>\n",
       "      <td>2019-12-28 14:49:19</td>\n",
       "      <td>2019-12-28 15:28:15</td>\n",
       "      <td>NaN</td>\n",
       "      <td>NaN</td>\n",
       "      <td>37.809270</td>\n",
       "      <td>-122.475899</td>\n",
       "      <td>NaN</td>\n",
       "      <td>NaN</td>\n",
       "      <td>37.829645</td>\n",
       "      <td>-122.483233</td>\n",
       "      <td>551068</td>\n",
       "      <td>Subscriber</td>\n",
       "      <td>NaN</td>\n",
       "      <td>app</td>\n",
       "    </tr>\n",
       "    <tr>\n",
       "      <th>4890395</th>\n",
       "      <td>2297</td>\n",
       "      <td>2019-12-28 14:49:17</td>\n",
       "      <td>2019-12-28 15:27:34</td>\n",
       "      <td>NaN</td>\n",
       "      <td>NaN</td>\n",
       "      <td>37.809275</td>\n",
       "      <td>-122.475875</td>\n",
       "      <td>NaN</td>\n",
       "      <td>NaN</td>\n",
       "      <td>37.829634</td>\n",
       "      <td>-122.483242</td>\n",
       "      <td>593917</td>\n",
       "      <td>Subscriber</td>\n",
       "      <td>NaN</td>\n",
       "      <td>app</td>\n",
       "    </tr>\n",
       "    <tr>\n",
       "      <th>4890396</th>\n",
       "      <td>1816</td>\n",
       "      <td>2019-12-27 17:58:23</td>\n",
       "      <td>2019-12-27 18:28:40</td>\n",
       "      <td>NaN</td>\n",
       "      <td>NaN</td>\n",
       "      <td>37.809291</td>\n",
       "      <td>-122.414682</td>\n",
       "      <td>NaN</td>\n",
       "      <td>NaN</td>\n",
       "      <td>37.776921</td>\n",
       "      <td>-122.419472</td>\n",
       "      <td>326273</td>\n",
       "      <td>Subscriber</td>\n",
       "      <td>NaN</td>\n",
       "      <td>app</td>\n",
       "    </tr>\n",
       "    <tr>\n",
       "      <th>4890397</th>\n",
       "      <td>687</td>\n",
       "      <td>2019-12-24 18:21:20</td>\n",
       "      <td>2019-12-24 18:32:47</td>\n",
       "      <td>NaN</td>\n",
       "      <td>NaN</td>\n",
       "      <td>37.809576</td>\n",
       "      <td>-122.412358</td>\n",
       "      <td>NaN</td>\n",
       "      <td>NaN</td>\n",
       "      <td>37.807259</td>\n",
       "      <td>-122.410570</td>\n",
       "      <td>607037</td>\n",
       "      <td>Customer</td>\n",
       "      <td>NaN</td>\n",
       "      <td>app</td>\n",
       "    </tr>\n",
       "    <tr>\n",
       "      <th>4890398</th>\n",
       "      <td>711</td>\n",
       "      <td>2019-12-24 18:21:41</td>\n",
       "      <td>2019-12-24 18:33:33</td>\n",
       "      <td>NaN</td>\n",
       "      <td>NaN</td>\n",
       "      <td>37.809578</td>\n",
       "      <td>-122.412348</td>\n",
       "      <td>NaN</td>\n",
       "      <td>NaN</td>\n",
       "      <td>37.807330</td>\n",
       "      <td>-122.410621</td>\n",
       "      <td>167109</td>\n",
       "      <td>Customer</td>\n",
       "      <td>NaN</td>\n",
       "      <td>app</td>\n",
       "    </tr>\n",
       "    <tr>\n",
       "      <th>4890399</th>\n",
       "      <td>731</td>\n",
       "      <td>2019-12-28 18:37:29</td>\n",
       "      <td>2019-12-28 18:49:40</td>\n",
       "      <td>NaN</td>\n",
       "      <td>NaN</td>\n",
       "      <td>37.809731</td>\n",
       "      <td>-122.409855</td>\n",
       "      <td>NaN</td>\n",
       "      <td>NaN</td>\n",
       "      <td>37.807573</td>\n",
       "      <td>-122.421681</td>\n",
       "      <td>719651</td>\n",
       "      <td>Subscriber</td>\n",
       "      <td>NaN</td>\n",
       "      <td>app</td>\n",
       "    </tr>\n",
       "    <tr>\n",
       "      <th>4890400</th>\n",
       "      <td>748</td>\n",
       "      <td>2019-12-28 18:37:24</td>\n",
       "      <td>2019-12-28 18:49:53</td>\n",
       "      <td>NaN</td>\n",
       "      <td>NaN</td>\n",
       "      <td>37.809768</td>\n",
       "      <td>-122.409797</td>\n",
       "      <td>NaN</td>\n",
       "      <td>NaN</td>\n",
       "      <td>37.807558</td>\n",
       "      <td>-122.421638</td>\n",
       "      <td>655411</td>\n",
       "      <td>Subscriber</td>\n",
       "      <td>NaN</td>\n",
       "      <td>app</td>\n",
       "    </tr>\n",
       "    <tr>\n",
       "      <th>4890401</th>\n",
       "      <td>1044</td>\n",
       "      <td>2019-12-26 14:25:37</td>\n",
       "      <td>2019-12-26 14:43:02</td>\n",
       "      <td>NaN</td>\n",
       "      <td>NaN</td>\n",
       "      <td>37.810183</td>\n",
       "      <td>-122.410271</td>\n",
       "      <td>NaN</td>\n",
       "      <td>NaN</td>\n",
       "      <td>37.807225</td>\n",
       "      <td>-122.408850</td>\n",
       "      <td>936881</td>\n",
       "      <td>Subscriber</td>\n",
       "      <td>NaN</td>\n",
       "      <td>app</td>\n",
       "    </tr>\n",
       "    <tr>\n",
       "      <th>4890402</th>\n",
       "      <td>326</td>\n",
       "      <td>2019-12-30 20:35:43</td>\n",
       "      <td>2019-12-30 20:41:09</td>\n",
       "      <td>NaN</td>\n",
       "      <td>NaN</td>\n",
       "      <td>37.810471</td>\n",
       "      <td>-122.417386</td>\n",
       "      <td>NaN</td>\n",
       "      <td>NaN</td>\n",
       "      <td>37.803143</td>\n",
       "      <td>-122.414373</td>\n",
       "      <td>397539</td>\n",
       "      <td>Subscriber</td>\n",
       "      <td>NaN</td>\n",
       "      <td>app</td>\n",
       "    </tr>\n",
       "    <tr>\n",
       "      <th>4890403</th>\n",
       "      <td>4023</td>\n",
       "      <td>2019-12-31 19:26:48</td>\n",
       "      <td>2019-12-31 20:33:52</td>\n",
       "      <td>NaN</td>\n",
       "      <td>NaN</td>\n",
       "      <td>37.811042</td>\n",
       "      <td>-122.418149</td>\n",
       "      <td>NaN</td>\n",
       "      <td>NaN</td>\n",
       "      <td>37.810970</td>\n",
       "      <td>-122.418054</td>\n",
       "      <td>662304</td>\n",
       "      <td>Subscriber</td>\n",
       "      <td>NaN</td>\n",
       "      <td>app</td>\n",
       "    </tr>\n",
       "  </tbody>\n",
       "</table>\n",
       "</div>"
      ],
      "text/plain": [
       "         duration_sec           start_time             end_time  \\\n",
       "4890394          2336  2019-12-28 14:49:19  2019-12-28 15:28:15   \n",
       "4890395          2297  2019-12-28 14:49:17  2019-12-28 15:27:34   \n",
       "4890396          1816  2019-12-27 17:58:23  2019-12-27 18:28:40   \n",
       "4890397           687  2019-12-24 18:21:20  2019-12-24 18:32:47   \n",
       "4890398           711  2019-12-24 18:21:41  2019-12-24 18:33:33   \n",
       "4890399           731  2019-12-28 18:37:29  2019-12-28 18:49:40   \n",
       "4890400           748  2019-12-28 18:37:24  2019-12-28 18:49:53   \n",
       "4890401          1044  2019-12-26 14:25:37  2019-12-26 14:43:02   \n",
       "4890402           326  2019-12-30 20:35:43  2019-12-30 20:41:09   \n",
       "4890403          4023  2019-12-31 19:26:48  2019-12-31 20:33:52   \n",
       "\n",
       "         start_station_id start_station_name  start_station_latitude  \\\n",
       "4890394               NaN                NaN               37.809270   \n",
       "4890395               NaN                NaN               37.809275   \n",
       "4890396               NaN                NaN               37.809291   \n",
       "4890397               NaN                NaN               37.809576   \n",
       "4890398               NaN                NaN               37.809578   \n",
       "4890399               NaN                NaN               37.809731   \n",
       "4890400               NaN                NaN               37.809768   \n",
       "4890401               NaN                NaN               37.810183   \n",
       "4890402               NaN                NaN               37.810471   \n",
       "4890403               NaN                NaN               37.811042   \n",
       "\n",
       "         start_station_longitude  end_station_id end_station_name  \\\n",
       "4890394              -122.475899             NaN              NaN   \n",
       "4890395              -122.475875             NaN              NaN   \n",
       "4890396              -122.414682             NaN              NaN   \n",
       "4890397              -122.412358             NaN              NaN   \n",
       "4890398              -122.412348             NaN              NaN   \n",
       "4890399              -122.409855             NaN              NaN   \n",
       "4890400              -122.409797             NaN              NaN   \n",
       "4890401              -122.410271             NaN              NaN   \n",
       "4890402              -122.417386             NaN              NaN   \n",
       "4890403              -122.418149             NaN              NaN   \n",
       "\n",
       "         end_station_latitude  end_station_longitude  bike_id   user_type  \\\n",
       "4890394             37.829645            -122.483233   551068  Subscriber   \n",
       "4890395             37.829634            -122.483242   593917  Subscriber   \n",
       "4890396             37.776921            -122.419472   326273  Subscriber   \n",
       "4890397             37.807259            -122.410570   607037    Customer   \n",
       "4890398             37.807330            -122.410621   167109    Customer   \n",
       "4890399             37.807573            -122.421681   719651  Subscriber   \n",
       "4890400             37.807558            -122.421638   655411  Subscriber   \n",
       "4890401             37.807225            -122.408850   936881  Subscriber   \n",
       "4890402             37.803143            -122.414373   397539  Subscriber   \n",
       "4890403             37.810970            -122.418054   662304  Subscriber   \n",
       "\n",
       "        bike_share_for_all_trip rental_access_method  \n",
       "4890394                     NaN                  app  \n",
       "4890395                     NaN                  app  \n",
       "4890396                     NaN                  app  \n",
       "4890397                     NaN                  app  \n",
       "4890398                     NaN                  app  \n",
       "4890399                     NaN                  app  \n",
       "4890400                     NaN                  app  \n",
       "4890401                     NaN                  app  \n",
       "4890402                     NaN                  app  \n",
       "4890403                     NaN                  app  "
      ]
     },
     "execution_count": 6,
     "metadata": {},
     "output_type": "execute_result"
    }
   ],
   "source": [
    "df.tail(10)"
   ]
  },
  {
   "cell_type": "code",
   "execution_count": 7,
   "metadata": {},
   "outputs": [
    {
     "name": "stdout",
     "output_type": "stream",
     "text": [
      "<class 'pandas.core.frame.DataFrame'>\n",
      "RangeIndex: 4890404 entries, 0 to 4890403\n",
      "Data columns (total 15 columns):\n",
      " #   Column                   Dtype  \n",
      "---  ------                   -----  \n",
      " 0   duration_sec             int64  \n",
      " 1   start_time               object \n",
      " 2   end_time                 object \n",
      " 3   start_station_id         float64\n",
      " 4   start_station_name       object \n",
      " 5   start_station_latitude   float64\n",
      " 6   start_station_longitude  float64\n",
      " 7   end_station_id           float64\n",
      " 8   end_station_name         object \n",
      " 9   end_station_latitude     float64\n",
      " 10  end_station_longitude    float64\n",
      " 11  bike_id                  int64  \n",
      " 12  user_type                object \n",
      " 13  bike_share_for_all_trip  object \n",
      " 14  rental_access_method     object \n",
      "dtypes: float64(6), int64(2), object(7)\n",
      "memory usage: 559.7+ MB\n"
     ]
    }
   ],
   "source": [
    "df.info()"
   ]
  },
  {
   "cell_type": "code",
   "execution_count": 8,
   "metadata": {},
   "outputs": [
    {
     "data": {
      "text/plain": [
       "duration_sec                     0\n",
       "start_time                       0\n",
       "end_time                         0\n",
       "start_station_id             92505\n",
       "start_station_name           91904\n",
       "start_station_latitude           0\n",
       "start_station_longitude          0\n",
       "end_station_id               94673\n",
       "end_station_name             94121\n",
       "end_station_latitude             0\n",
       "end_station_longitude            0\n",
       "bike_id                          0\n",
       "user_type                        0\n",
       "bike_share_for_all_trip     762959\n",
       "rental_access_method       4769566\n",
       "dtype: int64"
      ]
     },
     "execution_count": 8,
     "metadata": {},
     "output_type": "execute_result"
    }
   ],
   "source": [
    "df.isnull().sum()"
   ]
  },
  {
   "cell_type": "markdown",
   "metadata": {},
   "source": [
    "***First, we will start by exploring the missing data. We will check out the missing data in rental_access_method.***"
   ]
  },
  {
   "cell_type": "code",
   "execution_count": 9,
   "metadata": {},
   "outputs": [
    {
     "data": {
      "image/png": "[encoded data removed]",
      "text/plain": [
       "<Figure size 432x288 with 1 Axes>"
      ]
     },
     "metadata": {
      "needs_background": "light"
     },
     "output_type": "display_data"
    }
   ],
   "source": [
    "null_count = df.isnull().sum()\n",
    "base_color = sb.color_palette()[0]\n",
    "sb.barplot(null_count.index.values, null_count, color = base_color)\n",
    "plt.xticks(rotation = 90);"
   ]
  },
  {
   "cell_type": "code",
   "execution_count": 10,
   "metadata": {},
   "outputs": [
    {
     "data": {
      "text/plain": [
       "<matplotlib.axes._subplots.AxesSubplot at 0x22d81608a08>"
      ]
     },
     "execution_count": 10,
     "metadata": {},
     "output_type": "execute_result"
    },
    {
     "data": {
      "image/png": "[encoded data removed]",
      "text/plain": [
       "<Figure size 432x288 with 1 Axes>"
      ]
     },
     "metadata": {
      "needs_background": "light"
     },
     "output_type": "display_data"
    }
   ],
   "source": [
    "sb.countplot(data = df, x='rental_access_method', color = base_color)\n"
   ]
  },
  {
   "cell_type": "code",
   "execution_count": 11,
   "metadata": {},
   "outputs": [
    {
     "data": {
      "text/plain": [
       "Text(0.5, 0, 'bike share for all the trip')"
      ]
     },
     "execution_count": 11,
     "metadata": {},
     "output_type": "execute_result"
    },
    {
     "data": {
      "image/png": "[encoded data removed]",
      "text/plain": [
       "<Figure size 432x288 with 1 Axes>"
      ]
     },
     "metadata": {
      "needs_background": "light"
     },
     "output_type": "display_data"
    }
   ],
   "source": [
    "sb.countplot(data = df, x='bike_share_for_all_trip', color = base_color)\n",
    "plt.xlabel('bike share for all the trip')"
   ]
  },
  {
   "cell_type": "code",
   "execution_count": 12,
   "metadata": {},
   "outputs": [
    {
     "data": {
      "text/plain": [
       "762959"
      ]
     },
     "execution_count": 12,
     "metadata": {},
     "output_type": "execute_result"
    }
   ],
   "source": [
    "df['bike_share_for_all_trip'].isnull().sum()\n"
   ]
  },
  {
   "cell_type": "code",
   "execution_count": 13,
   "metadata": {},
   "outputs": [
    {
     "data": {
      "text/html": [
       "<div>\n",
       "<style scoped>\n",
       "    .dataframe tbody tr th:only-of-type {\n",
       "        vertical-align: middle;\n",
       "    }\n",
       "\n",
       "    .dataframe tbody tr th {\n",
       "        vertical-align: top;\n",
       "    }\n",
       "\n",
       "    .dataframe thead th {\n",
       "        text-align: right;\n",
       "    }\n",
       "</style>\n",
       "<table border=\"1\" class=\"dataframe\">\n",
       "  <thead>\n",
       "    <tr style=\"text-align: right;\">\n",
       "      <th></th>\n",
       "      <th>duration_sec</th>\n",
       "      <th>start_time</th>\n",
       "      <th>end_time</th>\n",
       "      <th>start_station_id</th>\n",
       "      <th>start_station_name</th>\n",
       "      <th>start_station_latitude</th>\n",
       "      <th>start_station_longitude</th>\n",
       "      <th>end_station_id</th>\n",
       "      <th>end_station_name</th>\n",
       "      <th>end_station_latitude</th>\n",
       "      <th>end_station_longitude</th>\n",
       "      <th>bike_id</th>\n",
       "      <th>user_type</th>\n",
       "      <th>bike_share_for_all_trip</th>\n",
       "      <th>rental_access_method</th>\n",
       "    </tr>\n",
       "  </thead>\n",
       "  <tbody>\n",
       "  </tbody>\n",
       "</table>\n",
       "</div>"
      ],
      "text/plain": [
       "Empty DataFrame\n",
       "Columns: [duration_sec, start_time, end_time, start_station_id, start_station_name, start_station_latitude, start_station_longitude, end_station_id, end_station_name, end_station_latitude, end_station_longitude, bike_id, user_type, bike_share_for_all_trip, rental_access_method]\n",
       "Index: []"
      ]
     },
     "execution_count": 13,
     "metadata": {},
     "output_type": "execute_result"
    }
   ],
   "source": [
    "df[df.duplicated(['start_time', 'end_time', 'start_station_id', 'end_station_id','bike_id'])]"
   ]
  },
  {
   "cell_type": "code",
   "execution_count": 14,
   "metadata": {},
   "outputs": [
    {
     "data": {
      "text/plain": [
       "Text(0.5, 0, 'User Type')"
      ]
     },
     "execution_count": 14,
     "metadata": {},
     "output_type": "execute_result"
    },
    {
     "data": {
      "image/png": "[encoded data removed]",
      "text/plain": [
       "<Figure size 432x288 with 1 Axes>"
      ]
     },
     "metadata": {
      "needs_background": "light"
     },
     "output_type": "display_data"
    }
   ],
   "source": [
    "sb.countplot(data = df, x='user_type', color = base_color )\n",
    "plt.xlabel('User Type')"
   ]
  },
  {
   "cell_type": "code",
   "execution_count": 15,
   "metadata": {},
   "outputs": [
    {
     "data": {
      "text/plain": [
       "Text(0.5, 0, \"start station's name\")"
      ]
     },
     "execution_count": 15,
     "metadata": {},
     "output_type": "execute_result"
    },
    {
     "data": {
      "image/png": "[encoded data removed]",
      "text/plain": [
       "<Figure size 432x288 with 1 Axes>"
      ]
     },
     "metadata": {
      "needs_background": "light"
     },
     "output_type": "display_data"
    }
   ],
   "source": [
    "sb.countplot(data = df, x= 'start_station_name', color = base_color)\n",
    "plt.xlabel('start station\\'s name')"
   ]
  },
  {
   "cell_type": "markdown",
   "metadata": {},
   "source": [
    "***I tried to run the following plot, but it was not running.***"
   ]
  },
  {
   "cell_type": "code",
   "execution_count": 16,
   "metadata": {},
   "outputs": [
    {
     "data": {
      "text/plain": [
       "count    4.890404e+06\n",
       "mean     8.575342e+02\n",
       "std      2.325582e+03\n",
       "min      6.000000e+01\n",
       "25%      3.580000e+02\n",
       "50%      5.680000e+02\n",
       "75%      8.860000e+02\n",
       "max      9.121100e+05\n",
       "Name: duration_sec, dtype: float64"
      ]
     },
     "execution_count": 16,
     "metadata": {},
     "output_type": "execute_result"
    }
   ],
   "source": [
    "df.duration_sec.describe()"
   ]
  },
  {
   "cell_type": "code",
   "execution_count": null,
   "metadata": {},
   "outputs": [],
   "source": [
    "bins_edges = np.arange(0, df.duration_sec.max()+3000, 3000)\n",
    "plt.hist(data = df, x= 'duration_sec', bins = bins_edges)"
   ]
  },
  {
   "cell_type": "markdown",
   "metadata": {},
   "source": [
    "### Cleaning Data "
   ]
  },
  {
   "cell_type": "markdown",
   "metadata": {},
   "source": [
    "- We will start by copying df. "
   ]
  },
  {
   "cell_type": "code",
   "execution_count": 18,
   "metadata": {},
   "outputs": [],
   "source": [
    "df_clean = df.copy()"
   ]
  },
  {
   "cell_type": "markdown",
   "metadata": {},
   "source": [
    "***Duration has faulty values.***\n",
    "\n",
    "*Define*\n",
    "- We should divide all the values within this column with sixty.\n",
    "\n",
    "*Code*"
   ]
  },
  {
   "cell_type": "code",
   "execution_count": 35,
   "metadata": {},
   "outputs": [],
   "source": [
    "df_clean['duration'] = df_clean['duration_sec']/60.0"
   ]
  },
  {
   "cell_type": "code",
   "execution_count": 37,
   "metadata": {},
   "outputs": [],
   "source": [
    "df_clean.drop(columns = {'duration_sec'}, inplace = True)"
   ]
  },
  {
   "cell_type": "markdown",
   "metadata": {},
   "source": [
    "*Test*"
   ]
  },
  {
   "cell_type": "code",
   "execution_count": 38,
   "metadata": {
    "scrolled": true
   },
   "outputs": [
    {
     "data": {
      "text/html": [
       "<div>\n",
       "<style scoped>\n",
       "    .dataframe tbody tr th:only-of-type {\n",
       "        vertical-align: middle;\n",
       "    }\n",
       "\n",
       "    .dataframe tbody tr th {\n",
       "        vertical-align: top;\n",
       "    }\n",
       "\n",
       "    .dataframe thead th {\n",
       "        text-align: right;\n",
       "    }\n",
       "</style>\n",
       "<table border=\"1\" class=\"dataframe\">\n",
       "  <thead>\n",
       "    <tr style=\"text-align: right;\">\n",
       "      <th></th>\n",
       "      <th>start_time</th>\n",
       "      <th>end_time</th>\n",
       "      <th>start_station_id</th>\n",
       "      <th>start_station_name</th>\n",
       "      <th>start_station_latitude</th>\n",
       "      <th>start_station_longitude</th>\n",
       "      <th>end_station_id</th>\n",
       "      <th>end_station_name</th>\n",
       "      <th>end_station_latitude</th>\n",
       "      <th>end_station_longitude</th>\n",
       "      <th>bike_id</th>\n",
       "      <th>user_type</th>\n",
       "      <th>bike_share_for_all_trip</th>\n",
       "      <th>duration</th>\n",
       "    </tr>\n",
       "  </thead>\n",
       "  <tbody>\n",
       "    <tr>\n",
       "      <th>519700</th>\n",
       "      <td>2018-01-31 22:52:35.239</td>\n",
       "      <td>2018-02-01 19:47:19.824</td>\n",
       "      <td>120</td>\n",
       "      <td>Mission Dolores Park</td>\n",
       "      <td>37.761420</td>\n",
       "      <td>-122.426435</td>\n",
       "      <td>285</td>\n",
       "      <td>Webster St at O'Farrell St</td>\n",
       "      <td>37.783521</td>\n",
       "      <td>-122.431158</td>\n",
       "      <td>2765</td>\n",
       "      <td>Subscriber</td>\n",
       "      <td>No</td>\n",
       "      <td>1254.733333</td>\n",
       "    </tr>\n",
       "    <tr>\n",
       "      <th>519701</th>\n",
       "      <td>2018-01-31 16:13:34.351</td>\n",
       "      <td>2018-02-01 15:57:17.310</td>\n",
       "      <td>15</td>\n",
       "      <td>San Francisco Ferry Building (Harry Bridges Pl...</td>\n",
       "      <td>37.795392</td>\n",
       "      <td>-122.394203</td>\n",
       "      <td>15</td>\n",
       "      <td>San Francisco Ferry Building (Harry Bridges Pl...</td>\n",
       "      <td>37.795392</td>\n",
       "      <td>-122.394203</td>\n",
       "      <td>2815</td>\n",
       "      <td>Customer</td>\n",
       "      <td>No</td>\n",
       "      <td>1423.700000</td>\n",
       "    </tr>\n",
       "    <tr>\n",
       "      <th>519702</th>\n",
       "      <td>2018-01-31 14:23:55.889</td>\n",
       "      <td>2018-02-01 10:16:52.116</td>\n",
       "      <td>304</td>\n",
       "      <td>Jackson St at 5th St</td>\n",
       "      <td>37.348759</td>\n",
       "      <td>-121.894798</td>\n",
       "      <td>296</td>\n",
       "      <td>5th St at Virginia St</td>\n",
       "      <td>37.325998</td>\n",
       "      <td>-121.877120</td>\n",
       "      <td>3039</td>\n",
       "      <td>Customer</td>\n",
       "      <td>No</td>\n",
       "      <td>1192.933333</td>\n",
       "    </tr>\n",
       "    <tr>\n",
       "      <th>519703</th>\n",
       "      <td>2018-01-31 14:53:23.562</td>\n",
       "      <td>2018-02-01 07:51:20.500</td>\n",
       "      <td>75</td>\n",
       "      <td>Market St at Franklin St</td>\n",
       "      <td>37.773793</td>\n",
       "      <td>-122.421239</td>\n",
       "      <td>47</td>\n",
       "      <td>4th St at Harrison St</td>\n",
       "      <td>37.780955</td>\n",
       "      <td>-122.399749</td>\n",
       "      <td>321</td>\n",
       "      <td>Customer</td>\n",
       "      <td>No</td>\n",
       "      <td>1017.933333</td>\n",
       "    </tr>\n",
       "    <tr>\n",
       "      <th>519704</th>\n",
       "      <td>2018-01-31 19:52:24.667</td>\n",
       "      <td>2018-02-01 06:58:31.053</td>\n",
       "      <td>74</td>\n",
       "      <td>Laguna St at Hayes St</td>\n",
       "      <td>37.776435</td>\n",
       "      <td>-122.426244</td>\n",
       "      <td>19</td>\n",
       "      <td>Post St at Kearny St</td>\n",
       "      <td>37.788975</td>\n",
       "      <td>-122.403452</td>\n",
       "      <td>617</td>\n",
       "      <td>Subscriber</td>\n",
       "      <td>No</td>\n",
       "      <td>666.100000</td>\n",
       "    </tr>\n",
       "    <tr>\n",
       "      <th>519705</th>\n",
       "      <td>2018-01-31 22:58:44.867</td>\n",
       "      <td>2018-02-01 00:46:41.908</td>\n",
       "      <td>236</td>\n",
       "      <td>Market St at 8th St</td>\n",
       "      <td>37.803686</td>\n",
       "      <td>-122.282497</td>\n",
       "      <td>160</td>\n",
       "      <td>West Oakland BART Station</td>\n",
       "      <td>37.805318</td>\n",
       "      <td>-122.294837</td>\n",
       "      <td>1306</td>\n",
       "      <td>Customer</td>\n",
       "      <td>No</td>\n",
       "      <td>107.950000</td>\n",
       "    </tr>\n",
       "    <tr>\n",
       "      <th>519706</th>\n",
       "      <td>2018-01-31 23:53:53.632</td>\n",
       "      <td>2018-02-01 00:01:26.805</td>\n",
       "      <td>110</td>\n",
       "      <td>17th &amp; Folsom Street Park (17th St at Folsom St)</td>\n",
       "      <td>37.763708</td>\n",
       "      <td>-122.415204</td>\n",
       "      <td>134</td>\n",
       "      <td>Valencia St at 24th St</td>\n",
       "      <td>37.752428</td>\n",
       "      <td>-122.420628</td>\n",
       "      <td>3571</td>\n",
       "      <td>Subscriber</td>\n",
       "      <td>No</td>\n",
       "      <td>7.550000</td>\n",
       "    </tr>\n",
       "    <tr>\n",
       "      <th>519707</th>\n",
       "      <td>2018-01-31 23:52:09.903</td>\n",
       "      <td>2018-01-31 23:55:10.807</td>\n",
       "      <td>81</td>\n",
       "      <td>Berry St at 4th St</td>\n",
       "      <td>37.775880</td>\n",
       "      <td>-122.393170</td>\n",
       "      <td>93</td>\n",
       "      <td>4th St at Mission Bay Blvd S</td>\n",
       "      <td>37.770407</td>\n",
       "      <td>-122.391198</td>\n",
       "      <td>1403</td>\n",
       "      <td>Subscriber</td>\n",
       "      <td>No</td>\n",
       "      <td>3.000000</td>\n",
       "    </tr>\n",
       "    <tr>\n",
       "      <th>519708</th>\n",
       "      <td>2018-01-31 23:34:56.004</td>\n",
       "      <td>2018-01-31 23:51:32.674</td>\n",
       "      <td>134</td>\n",
       "      <td>Valencia St at 24th St</td>\n",
       "      <td>37.752428</td>\n",
       "      <td>-122.420628</td>\n",
       "      <td>4</td>\n",
       "      <td>Cyril Magnin St at Ellis St</td>\n",
       "      <td>37.785881</td>\n",
       "      <td>-122.408915</td>\n",
       "      <td>3675</td>\n",
       "      <td>Subscriber</td>\n",
       "      <td>Yes</td>\n",
       "      <td>16.600000</td>\n",
       "    </tr>\n",
       "    <tr>\n",
       "      <th>519709</th>\n",
       "      <td>2018-01-31 23:34:14.027</td>\n",
       "      <td>2018-01-31 23:47:59.809</td>\n",
       "      <td>305</td>\n",
       "      <td>Ryland Park</td>\n",
       "      <td>37.342725</td>\n",
       "      <td>-121.895617</td>\n",
       "      <td>317</td>\n",
       "      <td>San Salvador St at 9th St</td>\n",
       "      <td>37.333955</td>\n",
       "      <td>-121.877349</td>\n",
       "      <td>1453</td>\n",
       "      <td>Subscriber</td>\n",
       "      <td>Yes</td>\n",
       "      <td>13.750000</td>\n",
       "    </tr>\n",
       "    <tr>\n",
       "      <th>519710</th>\n",
       "      <td>2018-01-31 23:24:00.416</td>\n",
       "      <td>2018-01-31 23:45:56.824</td>\n",
       "      <td>98</td>\n",
       "      <td>Valencia St at 16th St</td>\n",
       "      <td>37.765052</td>\n",
       "      <td>-122.421866</td>\n",
       "      <td>4</td>\n",
       "      <td>Cyril Magnin St at Ellis St</td>\n",
       "      <td>37.785881</td>\n",
       "      <td>-122.408915</td>\n",
       "      <td>1278</td>\n",
       "      <td>Customer</td>\n",
       "      <td>No</td>\n",
       "      <td>21.933333</td>\n",
       "    </tr>\n",
       "    <tr>\n",
       "      <th>519711</th>\n",
       "      <td>2018-01-31 23:34:26.484</td>\n",
       "      <td>2018-01-31 23:41:39.297</td>\n",
       "      <td>89</td>\n",
       "      <td>Division St at Potrero Ave</td>\n",
       "      <td>37.769218</td>\n",
       "      <td>-122.407646</td>\n",
       "      <td>43</td>\n",
       "      <td>San Francisco Public Library (Grove St at Hyde...</td>\n",
       "      <td>37.778768</td>\n",
       "      <td>-122.415929</td>\n",
       "      <td>2928</td>\n",
       "      <td>Subscriber</td>\n",
       "      <td>No</td>\n",
       "      <td>7.200000</td>\n",
       "    </tr>\n",
       "    <tr>\n",
       "      <th>519712</th>\n",
       "      <td>2018-01-31 23:29:46.832</td>\n",
       "      <td>2018-01-31 23:39:48.000</td>\n",
       "      <td>223</td>\n",
       "      <td>16th St Mission BART Station 2</td>\n",
       "      <td>37.764765</td>\n",
       "      <td>-122.420091</td>\n",
       "      <td>86</td>\n",
       "      <td>Market St at Dolores St</td>\n",
       "      <td>37.769305</td>\n",
       "      <td>-122.426826</td>\n",
       "      <td>3016</td>\n",
       "      <td>Subscriber</td>\n",
       "      <td>No</td>\n",
       "      <td>10.016667</td>\n",
       "    </tr>\n",
       "    <tr>\n",
       "      <th>519713</th>\n",
       "      <td>2018-01-31 23:24:16.357</td>\n",
       "      <td>2018-01-31 23:39:04.123</td>\n",
       "      <td>308</td>\n",
       "      <td>San Pedro Square</td>\n",
       "      <td>37.336802</td>\n",
       "      <td>-121.894090</td>\n",
       "      <td>297</td>\n",
       "      <td>Locust St at Grant St</td>\n",
       "      <td>37.322980</td>\n",
       "      <td>-121.887931</td>\n",
       "      <td>55</td>\n",
       "      <td>Subscriber</td>\n",
       "      <td>Yes</td>\n",
       "      <td>14.783333</td>\n",
       "    </tr>\n",
       "    <tr>\n",
       "      <th>519714</th>\n",
       "      <td>2018-01-31 23:33:03.046</td>\n",
       "      <td>2018-01-31 23:36:33.704</td>\n",
       "      <td>7</td>\n",
       "      <td>Frank H Ogawa Plaza</td>\n",
       "      <td>37.804562</td>\n",
       "      <td>-122.271738</td>\n",
       "      <td>186</td>\n",
       "      <td>Lakeside Dr at 14th St</td>\n",
       "      <td>37.801319</td>\n",
       "      <td>-122.262642</td>\n",
       "      <td>2602</td>\n",
       "      <td>Subscriber</td>\n",
       "      <td>No</td>\n",
       "      <td>3.500000</td>\n",
       "    </tr>\n",
       "    <tr>\n",
       "      <th>519715</th>\n",
       "      <td>2018-01-31 23:30:58.136</td>\n",
       "      <td>2018-01-31 23:34:06.391</td>\n",
       "      <td>98</td>\n",
       "      <td>Valencia St at 16th St</td>\n",
       "      <td>37.765052</td>\n",
       "      <td>-122.421866</td>\n",
       "      <td>76</td>\n",
       "      <td>McCoppin St at Valencia St</td>\n",
       "      <td>37.771662</td>\n",
       "      <td>-122.422423</td>\n",
       "      <td>2556</td>\n",
       "      <td>Subscriber</td>\n",
       "      <td>No</td>\n",
       "      <td>3.133333</td>\n",
       "    </tr>\n",
       "    <tr>\n",
       "      <th>519716</th>\n",
       "      <td>2018-01-31 23:19:58.603</td>\n",
       "      <td>2018-01-31 23:33:27.531</td>\n",
       "      <td>67</td>\n",
       "      <td>San Francisco Caltrain Station 2  (Townsend St...</td>\n",
       "      <td>37.776639</td>\n",
       "      <td>-122.395526</td>\n",
       "      <td>98</td>\n",
       "      <td>Valencia St at 16th St</td>\n",
       "      <td>37.765052</td>\n",
       "      <td>-122.421866</td>\n",
       "      <td>3041</td>\n",
       "      <td>Subscriber</td>\n",
       "      <td>Yes</td>\n",
       "      <td>13.466667</td>\n",
       "    </tr>\n",
       "    <tr>\n",
       "      <th>519717</th>\n",
       "      <td>2018-01-31 23:23:23.068</td>\n",
       "      <td>2018-01-31 23:29:42.044</td>\n",
       "      <td>80</td>\n",
       "      <td>Townsend St at 5th St</td>\n",
       "      <td>37.775306</td>\n",
       "      <td>-122.397380</td>\n",
       "      <td>78</td>\n",
       "      <td>Folsom St at 9th St</td>\n",
       "      <td>37.773717</td>\n",
       "      <td>-122.411647</td>\n",
       "      <td>546</td>\n",
       "      <td>Subscriber</td>\n",
       "      <td>No</td>\n",
       "      <td>6.300000</td>\n",
       "    </tr>\n",
       "    <tr>\n",
       "      <th>519718</th>\n",
       "      <td>2018-01-31 23:13:45.529</td>\n",
       "      <td>2018-01-31 23:19:36.265</td>\n",
       "      <td>247</td>\n",
       "      <td>Fulton St at Bancroft Way</td>\n",
       "      <td>37.867789</td>\n",
       "      <td>-122.265896</td>\n",
       "      <td>274</td>\n",
       "      <td>Oregon St at Adeline St</td>\n",
       "      <td>37.857567</td>\n",
       "      <td>-122.267558</td>\n",
       "      <td>431</td>\n",
       "      <td>Subscriber</td>\n",
       "      <td>No</td>\n",
       "      <td>5.833333</td>\n",
       "    </tr>\n",
       "    <tr>\n",
       "      <th>519719</th>\n",
       "      <td>2018-01-31 23:07:15.313</td>\n",
       "      <td>2018-01-31 23:18:41.558</td>\n",
       "      <td>312</td>\n",
       "      <td>San Jose Diridon Station</td>\n",
       "      <td>37.329732</td>\n",
       "      <td>-121.901782</td>\n",
       "      <td>317</td>\n",
       "      <td>San Salvador St at 9th St</td>\n",
       "      <td>37.333955</td>\n",
       "      <td>-121.877349</td>\n",
       "      <td>1886</td>\n",
       "      <td>Subscriber</td>\n",
       "      <td>No</td>\n",
       "      <td>11.433333</td>\n",
       "    </tr>\n",
       "  </tbody>\n",
       "</table>\n",
       "</div>"
      ],
      "text/plain": [
       "                    start_time                end_time  start_station_id  \\\n",
       "519700 2018-01-31 22:52:35.239 2018-02-01 19:47:19.824               120   \n",
       "519701 2018-01-31 16:13:34.351 2018-02-01 15:57:17.310                15   \n",
       "519702 2018-01-31 14:23:55.889 2018-02-01 10:16:52.116               304   \n",
       "519703 2018-01-31 14:53:23.562 2018-02-01 07:51:20.500                75   \n",
       "519704 2018-01-31 19:52:24.667 2018-02-01 06:58:31.053                74   \n",
       "519705 2018-01-31 22:58:44.867 2018-02-01 00:46:41.908               236   \n",
       "519706 2018-01-31 23:53:53.632 2018-02-01 00:01:26.805               110   \n",
       "519707 2018-01-31 23:52:09.903 2018-01-31 23:55:10.807                81   \n",
       "519708 2018-01-31 23:34:56.004 2018-01-31 23:51:32.674               134   \n",
       "519709 2018-01-31 23:34:14.027 2018-01-31 23:47:59.809               305   \n",
       "519710 2018-01-31 23:24:00.416 2018-01-31 23:45:56.824                98   \n",
       "519711 2018-01-31 23:34:26.484 2018-01-31 23:41:39.297                89   \n",
       "519712 2018-01-31 23:29:46.832 2018-01-31 23:39:48.000               223   \n",
       "519713 2018-01-31 23:24:16.357 2018-01-31 23:39:04.123               308   \n",
       "519714 2018-01-31 23:33:03.046 2018-01-31 23:36:33.704                 7   \n",
       "519715 2018-01-31 23:30:58.136 2018-01-31 23:34:06.391                98   \n",
       "519716 2018-01-31 23:19:58.603 2018-01-31 23:33:27.531                67   \n",
       "519717 2018-01-31 23:23:23.068 2018-01-31 23:29:42.044                80   \n",
       "519718 2018-01-31 23:13:45.529 2018-01-31 23:19:36.265               247   \n",
       "519719 2018-01-31 23:07:15.313 2018-01-31 23:18:41.558               312   \n",
       "\n",
       "                                       start_station_name  \\\n",
       "519700                               Mission Dolores Park   \n",
       "519701  San Francisco Ferry Building (Harry Bridges Pl...   \n",
       "519702                               Jackson St at 5th St   \n",
       "519703                           Market St at Franklin St   \n",
       "519704                              Laguna St at Hayes St   \n",
       "519705                                Market St at 8th St   \n",
       "519706   17th & Folsom Street Park (17th St at Folsom St)   \n",
       "519707                                 Berry St at 4th St   \n",
       "519708                             Valencia St at 24th St   \n",
       "519709                                        Ryland Park   \n",
       "519710                             Valencia St at 16th St   \n",
       "519711                         Division St at Potrero Ave   \n",
       "519712                     16th St Mission BART Station 2   \n",
       "519713                                   San Pedro Square   \n",
       "519714                                Frank H Ogawa Plaza   \n",
       "519715                             Valencia St at 16th St   \n",
       "519716  San Francisco Caltrain Station 2  (Townsend St...   \n",
       "519717                              Townsend St at 5th St   \n",
       "519718                          Fulton St at Bancroft Way   \n",
       "519719                           San Jose Diridon Station   \n",
       "\n",
       "        start_station_latitude  start_station_longitude  end_station_id  \\\n",
       "519700               37.761420              -122.426435             285   \n",
       "519701               37.795392              -122.394203              15   \n",
       "519702               37.348759              -121.894798             296   \n",
       "519703               37.773793              -122.421239              47   \n",
       "519704               37.776435              -122.426244              19   \n",
       "519705               37.803686              -122.282497             160   \n",
       "519706               37.763708              -122.415204             134   \n",
       "519707               37.775880              -122.393170              93   \n",
       "519708               37.752428              -122.420628               4   \n",
       "519709               37.342725              -121.895617             317   \n",
       "519710               37.765052              -122.421866               4   \n",
       "519711               37.769218              -122.407646              43   \n",
       "519712               37.764765              -122.420091              86   \n",
       "519713               37.336802              -121.894090             297   \n",
       "519714               37.804562              -122.271738             186   \n",
       "519715               37.765052              -122.421866              76   \n",
       "519716               37.776639              -122.395526              98   \n",
       "519717               37.775306              -122.397380              78   \n",
       "519718               37.867789              -122.265896             274   \n",
       "519719               37.329732              -121.901782             317   \n",
       "\n",
       "                                         end_station_name  \\\n",
       "519700                         Webster St at O'Farrell St   \n",
       "519701  San Francisco Ferry Building (Harry Bridges Pl...   \n",
       "519702                              5th St at Virginia St   \n",
       "519703                              4th St at Harrison St   \n",
       "519704                               Post St at Kearny St   \n",
       "519705                          West Oakland BART Station   \n",
       "519706                             Valencia St at 24th St   \n",
       "519707                       4th St at Mission Bay Blvd S   \n",
       "519708                        Cyril Magnin St at Ellis St   \n",
       "519709                          San Salvador St at 9th St   \n",
       "519710                        Cyril Magnin St at Ellis St   \n",
       "519711  San Francisco Public Library (Grove St at Hyde...   \n",
       "519712                            Market St at Dolores St   \n",
       "519713                              Locust St at Grant St   \n",
       "519714                             Lakeside Dr at 14th St   \n",
       "519715                         McCoppin St at Valencia St   \n",
       "519716                             Valencia St at 16th St   \n",
       "519717                                Folsom St at 9th St   \n",
       "519718                            Oregon St at Adeline St   \n",
       "519719                          San Salvador St at 9th St   \n",
       "\n",
       "        end_station_latitude  end_station_longitude  bike_id   user_type  \\\n",
       "519700             37.783521            -122.431158     2765  Subscriber   \n",
       "519701             37.795392            -122.394203     2815    Customer   \n",
       "519702             37.325998            -121.877120     3039    Customer   \n",
       "519703             37.780955            -122.399749      321    Customer   \n",
       "519704             37.788975            -122.403452      617  Subscriber   \n",
       "519705             37.805318            -122.294837     1306    Customer   \n",
       "519706             37.752428            -122.420628     3571  Subscriber   \n",
       "519707             37.770407            -122.391198     1403  Subscriber   \n",
       "519708             37.785881            -122.408915     3675  Subscriber   \n",
       "519709             37.333955            -121.877349     1453  Subscriber   \n",
       "519710             37.785881            -122.408915     1278    Customer   \n",
       "519711             37.778768            -122.415929     2928  Subscriber   \n",
       "519712             37.769305            -122.426826     3016  Subscriber   \n",
       "519713             37.322980            -121.887931       55  Subscriber   \n",
       "519714             37.801319            -122.262642     2602  Subscriber   \n",
       "519715             37.771662            -122.422423     2556  Subscriber   \n",
       "519716             37.765052            -122.421866     3041  Subscriber   \n",
       "519717             37.773717            -122.411647      546  Subscriber   \n",
       "519718             37.857567            -122.267558      431  Subscriber   \n",
       "519719             37.333955            -121.877349     1886  Subscriber   \n",
       "\n",
       "       bike_share_for_all_trip     duration  \n",
       "519700                      No  1254.733333  \n",
       "519701                      No  1423.700000  \n",
       "519702                      No  1192.933333  \n",
       "519703                      No  1017.933333  \n",
       "519704                      No   666.100000  \n",
       "519705                      No   107.950000  \n",
       "519706                      No     7.550000  \n",
       "519707                      No     3.000000  \n",
       "519708                     Yes    16.600000  \n",
       "519709                     Yes    13.750000  \n",
       "519710                      No    21.933333  \n",
       "519711                      No     7.200000  \n",
       "519712                      No    10.016667  \n",
       "519713                     Yes    14.783333  \n",
       "519714                      No     3.500000  \n",
       "519715                      No     3.133333  \n",
       "519716                     Yes    13.466667  \n",
       "519717                      No     6.300000  \n",
       "519718                      No     5.833333  \n",
       "519719                      No    11.433333  "
      ]
     },
     "execution_count": 38,
     "metadata": {},
     "output_type": "execute_result"
    }
   ],
   "source": [
    "df_clean.head(20)"
   ]
  },
  {
   "cell_type": "markdown",
   "metadata": {},
   "source": [
    "***Data columns={start_time and end_time} have faulty datatypes because they should have been date values***\n",
    "\n",
    "*Define*\n",
    "- we can correct the datatype through the following code\n",
    "\n",
    "*Code*"
   ]
  },
  {
   "cell_type": "code",
   "execution_count": 19,
   "metadata": {},
   "outputs": [],
   "source": [
    "df_clean['start_time'] = pd.to_datetime(df_clean['start_time'])\n",
    "df_clean['end_time'] = pd.to_datetime(df_clean['end_time'])"
   ]
  },
  {
   "cell_type": "markdown",
   "metadata": {},
   "source": [
    "*Test*"
   ]
  },
  {
   "cell_type": "code",
   "execution_count": 20,
   "metadata": {},
   "outputs": [
    {
     "name": "stdout",
     "output_type": "stream",
     "text": [
      "<class 'pandas.core.frame.DataFrame'>\n",
      "RangeIndex: 4890404 entries, 0 to 4890403\n",
      "Data columns (total 15 columns):\n",
      " #   Column                   Dtype         \n",
      "---  ------                   -----         \n",
      " 0   duration_sec             int64         \n",
      " 1   start_time               datetime64[ns]\n",
      " 2   end_time                 datetime64[ns]\n",
      " 3   start_station_id         float64       \n",
      " 4   start_station_name       object        \n",
      " 5   start_station_latitude   float64       \n",
      " 6   start_station_longitude  float64       \n",
      " 7   end_station_id           float64       \n",
      " 8   end_station_name         object        \n",
      " 9   end_station_latitude     float64       \n",
      " 10  end_station_longitude    float64       \n",
      " 11  bike_id                  int64         \n",
      " 12  user_type                object        \n",
      " 13  bike_share_for_all_trip  object        \n",
      " 14  rental_access_method     object        \n",
      "dtypes: datetime64[ns](2), float64(6), int64(2), object(5)\n",
      "memory usage: 559.7+ MB\n"
     ]
    }
   ],
   "source": [
    "df_clean.info()"
   ]
  },
  {
   "cell_type": "markdown",
   "metadata": {},
   "source": [
    "##### There are some missing values in the following columns = {'rental_access_method' }\n",
    "\n",
    "*Define*\n",
    "\n",
    "- you can start by removing the ebtire column because\n",
    "\n",
    "*Code*"
   ]
  },
  {
   "cell_type": "code",
   "execution_count": 21,
   "metadata": {},
   "outputs": [],
   "source": [
    "df_clean.drop(columns ={'rental_access_method'}, axis = 1, inplace = True )"
   ]
  },
  {
   "cell_type": "markdown",
   "metadata": {},
   "source": [
    "*Test*"
   ]
  },
  {
   "cell_type": "code",
   "execution_count": 22,
   "metadata": {},
   "outputs": [
    {
     "name": "stdout",
     "output_type": "stream",
     "text": [
      "<class 'pandas.core.frame.DataFrame'>\n",
      "RangeIndex: 4890404 entries, 0 to 4890403\n",
      "Data columns (total 14 columns):\n",
      " #   Column                   Dtype         \n",
      "---  ------                   -----         \n",
      " 0   duration_sec             int64         \n",
      " 1   start_time               datetime64[ns]\n",
      " 2   end_time                 datetime64[ns]\n",
      " 3   start_station_id         float64       \n",
      " 4   start_station_name       object        \n",
      " 5   start_station_latitude   float64       \n",
      " 6   start_station_longitude  float64       \n",
      " 7   end_station_id           float64       \n",
      " 8   end_station_name         object        \n",
      " 9   end_station_latitude     float64       \n",
      " 10  end_station_longitude    float64       \n",
      " 11  bike_id                  int64         \n",
      " 12  user_type                object        \n",
      " 13  bike_share_for_all_trip  object        \n",
      "dtypes: datetime64[ns](2), float64(6), int64(2), object(4)\n",
      "memory usage: 522.4+ MB\n"
     ]
    }
   ],
   "source": [
    "df_clean.info()"
   ]
  },
  {
   "cell_type": "code",
   "execution_count": 23,
   "metadata": {},
   "outputs": [
    {
     "data": {
      "text/html": [
       "<div>\n",
       "<style scoped>\n",
       "    .dataframe tbody tr th:only-of-type {\n",
       "        vertical-align: middle;\n",
       "    }\n",
       "\n",
       "    .dataframe tbody tr th {\n",
       "        vertical-align: top;\n",
       "    }\n",
       "\n",
       "    .dataframe thead th {\n",
       "        text-align: right;\n",
       "    }\n",
       "</style>\n",
       "<table border=\"1\" class=\"dataframe\">\n",
       "  <thead>\n",
       "    <tr style=\"text-align: right;\">\n",
       "      <th></th>\n",
       "      <th>start_time</th>\n",
       "      <th>end_time</th>\n",
       "    </tr>\n",
       "  </thead>\n",
       "  <tbody>\n",
       "    <tr>\n",
       "      <th>count</th>\n",
       "      <td>762959</td>\n",
       "      <td>762959</td>\n",
       "    </tr>\n",
       "    <tr>\n",
       "      <th>unique</th>\n",
       "      <td>758245</td>\n",
       "      <td>758256</td>\n",
       "    </tr>\n",
       "    <tr>\n",
       "      <th>top</th>\n",
       "      <td>2019-07-30 07:59:17</td>\n",
       "      <td>2019-07-26 10:04:08</td>\n",
       "    </tr>\n",
       "    <tr>\n",
       "      <th>freq</th>\n",
       "      <td>5</td>\n",
       "      <td>4</td>\n",
       "    </tr>\n",
       "    <tr>\n",
       "      <th>first</th>\n",
       "      <td>2017-06-28 09:47:36.347000</td>\n",
       "      <td>2017-06-28 09:52:55.338000</td>\n",
       "    </tr>\n",
       "    <tr>\n",
       "      <th>last</th>\n",
       "      <td>2019-12-31 23:59:41</td>\n",
       "      <td>2020-01-01 10:37:57</td>\n",
       "    </tr>\n",
       "  </tbody>\n",
       "</table>\n",
       "</div>"
      ],
      "text/plain": [
       "                        start_time                    end_time\n",
       "count                       762959                      762959\n",
       "unique                      758245                      758256\n",
       "top            2019-07-30 07:59:17         2019-07-26 10:04:08\n",
       "freq                             5                           4\n",
       "first   2017-06-28 09:47:36.347000  2017-06-28 09:52:55.338000\n",
       "last           2019-12-31 23:59:41         2020-01-01 10:37:57"
      ]
     },
     "execution_count": 23,
     "metadata": {},
     "output_type": "execute_result"
    }
   ],
   "source": [
    "df_clean[df_clean['bike_share_for_all_trip'].isnull()][['start_time', 'end_time']].describe()\n"
   ]
  },
  {
   "cell_type": "markdown",
   "metadata": {},
   "source": [
    "***There are some missing values in the following columns = {'start_station_id', 'start_station_name', 'end_station_id', 'end_station_name', 'bike_share_for_all_trip'}***\n",
    "\n",
    "*Define* \n",
    "- We can drop the rows with null values.\n",
    "\n",
    "*Code*"
   ]
  },
  {
   "cell_type": "code",
   "execution_count": 24,
   "metadata": {},
   "outputs": [],
   "source": [
    "df_clean.dropna(axis = 0, inplace = True)"
   ]
  },
  {
   "cell_type": "markdown",
   "metadata": {},
   "source": [
    "*Test*"
   ]
  },
  {
   "cell_type": "code",
   "execution_count": 25,
   "metadata": {},
   "outputs": [
    {
     "name": "stdout",
     "output_type": "stream",
     "text": [
      "<class 'pandas.core.frame.DataFrame'>\n",
      "Int64Index: 4114929 entries, 519700 to 4738891\n",
      "Data columns (total 14 columns):\n",
      " #   Column                   Dtype         \n",
      "---  ------                   -----         \n",
      " 0   duration_sec             int64         \n",
      " 1   start_time               datetime64[ns]\n",
      " 2   end_time                 datetime64[ns]\n",
      " 3   start_station_id         float64       \n",
      " 4   start_station_name       object        \n",
      " 5   start_station_latitude   float64       \n",
      " 6   start_station_longitude  float64       \n",
      " 7   end_station_id           float64       \n",
      " 8   end_station_name         object        \n",
      " 9   end_station_latitude     float64       \n",
      " 10  end_station_longitude    float64       \n",
      " 11  bike_id                  int64         \n",
      " 12  user_type                object        \n",
      " 13  bike_share_for_all_trip  object        \n",
      "dtypes: datetime64[ns](2), float64(6), int64(2), object(4)\n",
      "memory usage: 470.9+ MB\n"
     ]
    }
   ],
   "source": [
    "df_clean.info()"
   ]
  },
  {
   "cell_type": "code",
   "execution_count": 26,
   "metadata": {},
   "outputs": [
    {
     "data": {
      "text/plain": [
       "duration_sec               0\n",
       "start_time                 0\n",
       "end_time                   0\n",
       "start_station_id           0\n",
       "start_station_name         0\n",
       "start_station_latitude     0\n",
       "start_station_longitude    0\n",
       "end_station_id             0\n",
       "end_station_name           0\n",
       "end_station_latitude       0\n",
       "end_station_longitude      0\n",
       "bike_id                    0\n",
       "user_type                  0\n",
       "bike_share_for_all_trip    0\n",
       "dtype: int64"
      ]
     },
     "execution_count": 26,
     "metadata": {},
     "output_type": "execute_result"
    }
   ],
   "source": [
    "df_clean.isnull().sum()"
   ]
  },
  {
   "cell_type": "markdown",
   "metadata": {},
   "source": [
    "***start_station_id and end_station have faulty datatypes.***\n",
    "\n",
    "*Define*\n",
    "-  We must change them into integer values.\n",
    "\n",
    "*Code*"
   ]
  },
  {
   "cell_type": "code",
   "execution_count": 27,
   "metadata": {},
   "outputs": [],
   "source": [
    "df_clean[['start_station_id','end_station_id']] = df_clean[['start_station_id','end_station_id']].astype(int)"
   ]
  },
  {
   "cell_type": "markdown",
   "metadata": {},
   "source": [
    "*Test*"
   ]
  },
  {
   "cell_type": "code",
   "execution_count": 28,
   "metadata": {},
   "outputs": [
    {
     "name": "stdout",
     "output_type": "stream",
     "text": [
      "<class 'pandas.core.frame.DataFrame'>\n",
      "Int64Index: 4114929 entries, 519700 to 4738891\n",
      "Data columns (total 14 columns):\n",
      " #   Column                   Dtype         \n",
      "---  ------                   -----         \n",
      " 0   duration_sec             int64         \n",
      " 1   start_time               datetime64[ns]\n",
      " 2   end_time                 datetime64[ns]\n",
      " 3   start_station_id         int32         \n",
      " 4   start_station_name       object        \n",
      " 5   start_station_latitude   float64       \n",
      " 6   start_station_longitude  float64       \n",
      " 7   end_station_id           int32         \n",
      " 8   end_station_name         object        \n",
      " 9   end_station_latitude     float64       \n",
      " 10  end_station_longitude    float64       \n",
      " 11  bike_id                  int64         \n",
      " 12  user_type                object        \n",
      " 13  bike_share_for_all_trip  object        \n",
      "dtypes: datetime64[ns](2), float64(4), int32(2), int64(2), object(4)\n",
      "memory usage: 439.5+ MB\n"
     ]
    }
   ],
   "source": [
    "df_clean.info()"
   ]
  },
  {
   "cell_type": "markdown",
   "metadata": {},
   "source": [
    "### Reassessment of the Data\n",
    "\n",
    "- Now, I will start reassessing the data to understand the different relationships in that dataset. In addition, I will try to detect the existing patterns in the dataset."
   ]
  },
  {
   "cell_type": "code",
   "execution_count": 29,
   "metadata": {},
   "outputs": [
    {
     "data": {
      "text/plain": [
       "Text(0.5, 0, 'bike share for all the trip')"
      ]
     },
     "execution_count": 29,
     "metadata": {},
     "output_type": "execute_result"
    },
    {
     "data": {
      "image/png": "[encoded data removed]",
      "text/plain": [
       "<Figure size 432x288 with 1 Axes>"
      ]
     },
     "metadata": {
      "needs_background": "light"
     },
     "output_type": "display_data"
    }
   ],
   "source": [
    "sb.countplot(data = df, x='bike_share_for_all_trip', color = base_color)\n",
    "plt.xlabel('bike share for all the trip')"
   ]
  },
  {
   "cell_type": "code",
   "execution_count": 30,
   "metadata": {},
   "outputs": [
    {
     "data": {
      "image/png": "[encoded data removed]",
      "text/plain": [
       "<Figure size 432x288 with 1 Axes>"
      ]
     },
     "metadata": {
      "needs_background": "light"
     },
     "output_type": "display_data"
    }
   ],
   "source": [
    "sb.countplot(data = df, x='user_type', color = base_color )\n",
    "plt.xlabel('User Type');"
   ]
  },
  {
   "cell_type": "code",
   "execution_count": 39,
   "metadata": {},
   "outputs": [
    {
     "data": {
      "text/plain": [
       "count    4.114929e+06\n",
       "mean     1.379440e+01\n",
       "std      3.533832e+01\n",
       "min      1.016667e+00\n",
       "25%      5.900000e+00\n",
       "50%      9.383333e+00\n",
       "75%      1.463333e+01\n",
       "max      1.439433e+03\n",
       "Name: duration, dtype: float64"
      ]
     },
     "execution_count": 39,
     "metadata": {},
     "output_type": "execute_result"
    }
   ],
   "source": [
    "df_clean['duration'].describe()"
   ]
  },
  {
   "cell_type": "code",
   "execution_count": 53,
   "metadata": {},
   "outputs": [
    {
     "data": {
      "image/png": "[encoded data removed]",
      "text/plain": [
       "<Figure size 432x288 with 1 Axes>"
      ]
     },
     "metadata": {
      "needs_background": "light"
     },
     "output_type": "display_data"
    }
   ],
   "source": [
    "bins_edges = np.arange(0, df_clean.duration.max()+ 30, 30 )\n",
    "plt.hist(data = df_clean, x= 'duration', bins = bins_edges);"
   ]
  },
  {
   "cell_type": "code",
   "execution_count": 55,
   "metadata": {},
   "outputs": [
    {
     "data": {
      "text/plain": [
       "<matplotlib.axes._subplots.AxesSubplot at 0x22dec0f7bc8>"
      ]
     },
     "execution_count": 55,
     "metadata": {},
     "output_type": "execute_result"
    },
    {
     "data": {
      "image/png": "[encoded data removed]",
      "text/plain": [
       "<Figure size 432x288 with 1 Axes>"
      ]
     },
     "metadata": {
      "needs_background": "light"
     },
     "output_type": "display_data"
    }
   ],
   "source": [
    "sb.distplot(df_clean.duration)"
   ]
  },
  {
   "cell_type": "code",
   "execution_count": null,
   "metadata": {},
   "outputs": [],
   "source": []
  }
 ],
 "metadata": {
  "kernelspec": {
   "display_name": "Python 3",
   "language": "python",
   "name": "python3"
  },
  "language_info": {
   "codemirror_mode": {
    "name": "ipython",
    "version": 3
   },
   "file_extension": ".py",
   "mimetype": "text/x-python",
   "name": "python",
   "nbconvert_exporter": "python",
   "pygments_lexer": "ipython3",
   "version": "3.7.7"
  }
 },
 "nbformat": 4,
 "nbformat_minor": 4
}
