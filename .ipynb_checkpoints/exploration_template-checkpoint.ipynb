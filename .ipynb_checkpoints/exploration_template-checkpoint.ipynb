{
 "cells": [
  {
   "cell_type": "markdown",
   "metadata": {},
   "source": [
    "## Exploring Dataset\n",
    "\n",
    "some steps to follow:\n",
    "- Introduce the dataset. \n",
    "- Systematically walk through the points of exploration that you conducted.\n",
    "- You should have headers and text that organize your thoughts and findings.\n",
    "- Don’t forget to export the notebook as an html file for the project submission.\n",
    "\n",
    "##### Create your Slide Deck Later: this is where Explanation comes in.\n",
    "\n",
    "\n",
    "For now, I should start  a clear understanding of the data. "
   ]
  },
  {
   "cell_type": "markdown",
   "metadata": {},
   "source": [
    "### Gathering Data "
   ]
  },
  {
   "cell_type": "code",
   "execution_count": 1,
   "metadata": {},
   "outputs": [],
   "source": [
    "# all needed libraries imported here \n",
    "import pandas as pd\n",
    "import numpy as np \n",
    "import os\n",
    "import glob\n",
    "import matplotlib.pyplot as plt\n",
    "import seaborn as sb\n",
    "from datetime import datetime\n",
    "\n",
    "%matplotlib inline"
   ]
  },
  {
   "cell_type": "code",
   "execution_count": 2,
   "metadata": {},
   "outputs": [],
   "source": [
    "#read and combine using glob.glob()\n",
    "all_filenames = [i for i in glob.glob('Data\\*.csv')]\n"
   ]
  },
  {
   "cell_type": "code",
   "execution_count": 3,
   "metadata": {},
   "outputs": [],
   "source": [
    "#read all csv files in one dataset\n",
    "df = pd.concat([pd.read_csv(file, dtype ={'rental_access_method': object, 'bike_share_for_all_trip' : object } ) for file in all_filenames], ignore_index=True)\n"
   ]
  },
  {
   "cell_type": "code",
   "execution_count": 4,
   "metadata": {},
   "outputs": [],
   "source": [
    "#df.to_csv( \"full_fordgobike-tripdata.csv\", index=False)\n"
   ]
  },
  {
   "cell_type": "markdown",
   "metadata": {},
   "source": [
    "### Assessing Data "
   ]
  },
  {
   "cell_type": "markdown",
   "metadata": {},
   "source": [
    "##### Now, I would like to check for existing quality issues and tidiness issues and fix them if possible \n",
    "\n",
    "##### Quality issues:\n",
    "- There are some missing values in the following columns = {'start_station_id', 'start_station_name', 'end_station_id', 'end_station_name', 'bike_share_for_all_trip', 'rental_access_method' }\n",
    "- Data columns={start_time and end_time} have faulty datatypes because they should have been date values \n",
    "- start_station_id and end_station_id both have missing values and wrong datatypes. The Datatypes should have been int but it is float. \n",
    "- Duration has faulty values. We'll make it in minutes rather than in seconds.  "
   ]
  },
  {
   "cell_type": "code",
   "execution_count": 5,
   "metadata": {
    "scrolled": true
   },
   "outputs": [
    {
     "data": {
      "text/html": [
       "<div>\n",
       "<style scoped>\n",
       "    .dataframe tbody tr th:only-of-type {\n",
       "        vertical-align: middle;\n",
       "    }\n",
       "\n",
       "    .dataframe tbody tr th {\n",
       "        vertical-align: top;\n",
       "    }\n",
       "\n",
       "    .dataframe thead th {\n",
       "        text-align: right;\n",
       "    }\n",
       "</style>\n",
       "<table border=\"1\" class=\"dataframe\">\n",
       "  <thead>\n",
       "    <tr style=\"text-align: right;\">\n",
       "      <th></th>\n",
       "      <th>duration_sec</th>\n",
       "      <th>start_time</th>\n",
       "      <th>end_time</th>\n",
       "      <th>start_station_id</th>\n",
       "      <th>start_station_name</th>\n",
       "      <th>start_station_latitude</th>\n",
       "      <th>start_station_longitude</th>\n",
       "      <th>end_station_id</th>\n",
       "      <th>end_station_name</th>\n",
       "      <th>end_station_latitude</th>\n",
       "      <th>end_station_longitude</th>\n",
       "      <th>bike_id</th>\n",
       "      <th>user_type</th>\n",
       "      <th>bike_share_for_all_trip</th>\n",
       "      <th>rental_access_method</th>\n",
       "    </tr>\n",
       "  </thead>\n",
       "  <tbody>\n",
       "    <tr>\n",
       "      <th>0</th>\n",
       "      <td>80110</td>\n",
       "      <td>2017-12-31 16:57:39.6540</td>\n",
       "      <td>2018-01-01 15:12:50.2450</td>\n",
       "      <td>74.0</td>\n",
       "      <td>Laguna St at Hayes St</td>\n",
       "      <td>37.776435</td>\n",
       "      <td>-122.426244</td>\n",
       "      <td>43.0</td>\n",
       "      <td>San Francisco Public Library (Grove St at Hyde...</td>\n",
       "      <td>37.778768</td>\n",
       "      <td>-122.415929</td>\n",
       "      <td>96</td>\n",
       "      <td>Customer</td>\n",
       "      <td>NaN</td>\n",
       "      <td>NaN</td>\n",
       "    </tr>\n",
       "    <tr>\n",
       "      <th>1</th>\n",
       "      <td>78800</td>\n",
       "      <td>2017-12-31 15:56:34.8420</td>\n",
       "      <td>2018-01-01 13:49:55.6170</td>\n",
       "      <td>284.0</td>\n",
       "      <td>Yerba Buena Center for the Arts (Howard St at ...</td>\n",
       "      <td>37.784872</td>\n",
       "      <td>-122.400876</td>\n",
       "      <td>96.0</td>\n",
       "      <td>Dolores St at 15th St</td>\n",
       "      <td>37.766210</td>\n",
       "      <td>-122.426614</td>\n",
       "      <td>88</td>\n",
       "      <td>Customer</td>\n",
       "      <td>NaN</td>\n",
       "      <td>NaN</td>\n",
       "    </tr>\n",
       "    <tr>\n",
       "      <th>2</th>\n",
       "      <td>45768</td>\n",
       "      <td>2017-12-31 22:45:48.4110</td>\n",
       "      <td>2018-01-01 11:28:36.8830</td>\n",
       "      <td>245.0</td>\n",
       "      <td>Downtown Berkeley BART</td>\n",
       "      <td>37.870348</td>\n",
       "      <td>-122.267764</td>\n",
       "      <td>245.0</td>\n",
       "      <td>Downtown Berkeley BART</td>\n",
       "      <td>37.870348</td>\n",
       "      <td>-122.267764</td>\n",
       "      <td>1094</td>\n",
       "      <td>Customer</td>\n",
       "      <td>NaN</td>\n",
       "      <td>NaN</td>\n",
       "    </tr>\n",
       "    <tr>\n",
       "      <th>3</th>\n",
       "      <td>62172</td>\n",
       "      <td>2017-12-31 17:31:10.6360</td>\n",
       "      <td>2018-01-01 10:47:23.5310</td>\n",
       "      <td>60.0</td>\n",
       "      <td>8th St at Ringold St</td>\n",
       "      <td>37.774520</td>\n",
       "      <td>-122.409449</td>\n",
       "      <td>5.0</td>\n",
       "      <td>Powell St BART Station (Market St at 5th St)</td>\n",
       "      <td>37.783899</td>\n",
       "      <td>-122.408445</td>\n",
       "      <td>2831</td>\n",
       "      <td>Customer</td>\n",
       "      <td>NaN</td>\n",
       "      <td>NaN</td>\n",
       "    </tr>\n",
       "    <tr>\n",
       "      <th>4</th>\n",
       "      <td>43603</td>\n",
       "      <td>2017-12-31 14:23:14.0010</td>\n",
       "      <td>2018-01-01 02:29:57.5710</td>\n",
       "      <td>239.0</td>\n",
       "      <td>Bancroft Way at Telegraph Ave</td>\n",
       "      <td>37.868813</td>\n",
       "      <td>-122.258764</td>\n",
       "      <td>247.0</td>\n",
       "      <td>Fulton St at Bancroft Way</td>\n",
       "      <td>37.867789</td>\n",
       "      <td>-122.265896</td>\n",
       "      <td>3167</td>\n",
       "      <td>Subscriber</td>\n",
       "      <td>NaN</td>\n",
       "      <td>NaN</td>\n",
       "    </tr>\n",
       "    <tr>\n",
       "      <th>5</th>\n",
       "      <td>9226</td>\n",
       "      <td>2017-12-31 22:51:00.9180</td>\n",
       "      <td>2018-01-01 01:24:47.1660</td>\n",
       "      <td>30.0</td>\n",
       "      <td>San Francisco Caltrain (Townsend St at 4th St)</td>\n",
       "      <td>37.776598</td>\n",
       "      <td>-122.395282</td>\n",
       "      <td>30.0</td>\n",
       "      <td>San Francisco Caltrain (Townsend St at 4th St)</td>\n",
       "      <td>37.776598</td>\n",
       "      <td>-122.395282</td>\n",
       "      <td>1487</td>\n",
       "      <td>Customer</td>\n",
       "      <td>NaN</td>\n",
       "      <td>NaN</td>\n",
       "    </tr>\n",
       "    <tr>\n",
       "      <th>6</th>\n",
       "      <td>4507</td>\n",
       "      <td>2017-12-31 23:49:28.4220</td>\n",
       "      <td>2018-01-01 01:04:35.6190</td>\n",
       "      <td>259.0</td>\n",
       "      <td>Addison St at Fourth St</td>\n",
       "      <td>37.866249</td>\n",
       "      <td>-122.299371</td>\n",
       "      <td>259.0</td>\n",
       "      <td>Addison St at Fourth St</td>\n",
       "      <td>37.866249</td>\n",
       "      <td>-122.299371</td>\n",
       "      <td>3539</td>\n",
       "      <td>Customer</td>\n",
       "      <td>NaN</td>\n",
       "      <td>NaN</td>\n",
       "    </tr>\n",
       "    <tr>\n",
       "      <th>7</th>\n",
       "      <td>4334</td>\n",
       "      <td>2017-12-31 23:46:37.1960</td>\n",
       "      <td>2018-01-01 00:58:51.2110</td>\n",
       "      <td>284.0</td>\n",
       "      <td>Yerba Buena Center for the Arts (Howard St at ...</td>\n",
       "      <td>37.784872</td>\n",
       "      <td>-122.400876</td>\n",
       "      <td>284.0</td>\n",
       "      <td>Yerba Buena Center for the Arts (Howard St at ...</td>\n",
       "      <td>37.784872</td>\n",
       "      <td>-122.400876</td>\n",
       "      <td>1503</td>\n",
       "      <td>Customer</td>\n",
       "      <td>NaN</td>\n",
       "      <td>NaN</td>\n",
       "    </tr>\n",
       "    <tr>\n",
       "      <th>8</th>\n",
       "      <td>4150</td>\n",
       "      <td>2017-12-31 23:37:07.5480</td>\n",
       "      <td>2018-01-01 00:46:18.3080</td>\n",
       "      <td>20.0</td>\n",
       "      <td>Mechanics Monument Plaza (Market St at Bush St)</td>\n",
       "      <td>37.791300</td>\n",
       "      <td>-122.399051</td>\n",
       "      <td>20.0</td>\n",
       "      <td>Mechanics Monument Plaza (Market St at Bush St)</td>\n",
       "      <td>37.791300</td>\n",
       "      <td>-122.399051</td>\n",
       "      <td>3125</td>\n",
       "      <td>Customer</td>\n",
       "      <td>NaN</td>\n",
       "      <td>NaN</td>\n",
       "    </tr>\n",
       "    <tr>\n",
       "      <th>9</th>\n",
       "      <td>4238</td>\n",
       "      <td>2017-12-31 23:35:38.1450</td>\n",
       "      <td>2018-01-01 00:46:17.0530</td>\n",
       "      <td>20.0</td>\n",
       "      <td>Mechanics Monument Plaza (Market St at Bush St)</td>\n",
       "      <td>37.791300</td>\n",
       "      <td>-122.399051</td>\n",
       "      <td>20.0</td>\n",
       "      <td>Mechanics Monument Plaza (Market St at Bush St)</td>\n",
       "      <td>37.791300</td>\n",
       "      <td>-122.399051</td>\n",
       "      <td>2543</td>\n",
       "      <td>Customer</td>\n",
       "      <td>NaN</td>\n",
       "      <td>NaN</td>\n",
       "    </tr>\n",
       "  </tbody>\n",
       "</table>\n",
       "</div>"
      ],
      "text/plain": [
       "   duration_sec                start_time                  end_time  \\\n",
       "0         80110  2017-12-31 16:57:39.6540  2018-01-01 15:12:50.2450   \n",
       "1         78800  2017-12-31 15:56:34.8420  2018-01-01 13:49:55.6170   \n",
       "2         45768  2017-12-31 22:45:48.4110  2018-01-01 11:28:36.8830   \n",
       "3         62172  2017-12-31 17:31:10.6360  2018-01-01 10:47:23.5310   \n",
       "4         43603  2017-12-31 14:23:14.0010  2018-01-01 02:29:57.5710   \n",
       "5          9226  2017-12-31 22:51:00.9180  2018-01-01 01:24:47.1660   \n",
       "6          4507  2017-12-31 23:49:28.4220  2018-01-01 01:04:35.6190   \n",
       "7          4334  2017-12-31 23:46:37.1960  2018-01-01 00:58:51.2110   \n",
       "8          4150  2017-12-31 23:37:07.5480  2018-01-01 00:46:18.3080   \n",
       "9          4238  2017-12-31 23:35:38.1450  2018-01-01 00:46:17.0530   \n",
       "\n",
       "   start_station_id                                 start_station_name  \\\n",
       "0              74.0                              Laguna St at Hayes St   \n",
       "1             284.0  Yerba Buena Center for the Arts (Howard St at ...   \n",
       "2             245.0                             Downtown Berkeley BART   \n",
       "3              60.0                               8th St at Ringold St   \n",
       "4             239.0                      Bancroft Way at Telegraph Ave   \n",
       "5              30.0     San Francisco Caltrain (Townsend St at 4th St)   \n",
       "6             259.0                            Addison St at Fourth St   \n",
       "7             284.0  Yerba Buena Center for the Arts (Howard St at ...   \n",
       "8              20.0    Mechanics Monument Plaza (Market St at Bush St)   \n",
       "9              20.0    Mechanics Monument Plaza (Market St at Bush St)   \n",
       "\n",
       "   start_station_latitude  start_station_longitude  end_station_id  \\\n",
       "0               37.776435              -122.426244            43.0   \n",
       "1               37.784872              -122.400876            96.0   \n",
       "2               37.870348              -122.267764           245.0   \n",
       "3               37.774520              -122.409449             5.0   \n",
       "4               37.868813              -122.258764           247.0   \n",
       "5               37.776598              -122.395282            30.0   \n",
       "6               37.866249              -122.299371           259.0   \n",
       "7               37.784872              -122.400876           284.0   \n",
       "8               37.791300              -122.399051            20.0   \n",
       "9               37.791300              -122.399051            20.0   \n",
       "\n",
       "                                    end_station_name  end_station_latitude  \\\n",
       "0  San Francisco Public Library (Grove St at Hyde...             37.778768   \n",
       "1                              Dolores St at 15th St             37.766210   \n",
       "2                             Downtown Berkeley BART             37.870348   \n",
       "3       Powell St BART Station (Market St at 5th St)             37.783899   \n",
       "4                          Fulton St at Bancroft Way             37.867789   \n",
       "5     San Francisco Caltrain (Townsend St at 4th St)             37.776598   \n",
       "6                            Addison St at Fourth St             37.866249   \n",
       "7  Yerba Buena Center for the Arts (Howard St at ...             37.784872   \n",
       "8    Mechanics Monument Plaza (Market St at Bush St)             37.791300   \n",
       "9    Mechanics Monument Plaza (Market St at Bush St)             37.791300   \n",
       "\n",
       "   end_station_longitude  bike_id   user_type bike_share_for_all_trip  \\\n",
       "0            -122.415929       96    Customer                     NaN   \n",
       "1            -122.426614       88    Customer                     NaN   \n",
       "2            -122.267764     1094    Customer                     NaN   \n",
       "3            -122.408445     2831    Customer                     NaN   \n",
       "4            -122.265896     3167  Subscriber                     NaN   \n",
       "5            -122.395282     1487    Customer                     NaN   \n",
       "6            -122.299371     3539    Customer                     NaN   \n",
       "7            -122.400876     1503    Customer                     NaN   \n",
       "8            -122.399051     3125    Customer                     NaN   \n",
       "9            -122.399051     2543    Customer                     NaN   \n",
       "\n",
       "  rental_access_method  \n",
       "0                  NaN  \n",
       "1                  NaN  \n",
       "2                  NaN  \n",
       "3                  NaN  \n",
       "4                  NaN  \n",
       "5                  NaN  \n",
       "6                  NaN  \n",
       "7                  NaN  \n",
       "8                  NaN  \n",
       "9                  NaN  "
      ]
     },
     "execution_count": 5,
     "metadata": {},
     "output_type": "execute_result"
    }
   ],
   "source": [
    "df.head(10)"
   ]
  },
  {
   "cell_type": "code",
   "execution_count": 6,
   "metadata": {
    "scrolled": true
   },
   "outputs": [
    {
     "data": {
      "text/html": [
       "<div>\n",
       "<style scoped>\n",
       "    .dataframe tbody tr th:only-of-type {\n",
       "        vertical-align: middle;\n",
       "    }\n",
       "\n",
       "    .dataframe tbody tr th {\n",
       "        vertical-align: top;\n",
       "    }\n",
       "\n",
       "    .dataframe thead th {\n",
       "        text-align: right;\n",
       "    }\n",
       "</style>\n",
       "<table border=\"1\" class=\"dataframe\">\n",
       "  <thead>\n",
       "    <tr style=\"text-align: right;\">\n",
       "      <th></th>\n",
       "      <th>duration_sec</th>\n",
       "      <th>start_time</th>\n",
       "      <th>end_time</th>\n",
       "      <th>start_station_id</th>\n",
       "      <th>start_station_name</th>\n",
       "      <th>start_station_latitude</th>\n",
       "      <th>start_station_longitude</th>\n",
       "      <th>end_station_id</th>\n",
       "      <th>end_station_name</th>\n",
       "      <th>end_station_latitude</th>\n",
       "      <th>end_station_longitude</th>\n",
       "      <th>bike_id</th>\n",
       "      <th>user_type</th>\n",
       "      <th>bike_share_for_all_trip</th>\n",
       "      <th>rental_access_method</th>\n",
       "    </tr>\n",
       "  </thead>\n",
       "  <tbody>\n",
       "    <tr>\n",
       "      <th>4890394</th>\n",
       "      <td>2336</td>\n",
       "      <td>2019-12-28 14:49:19</td>\n",
       "      <td>2019-12-28 15:28:15</td>\n",
       "      <td>NaN</td>\n",
       "      <td>NaN</td>\n",
       "      <td>37.809270</td>\n",
       "      <td>-122.475899</td>\n",
       "      <td>NaN</td>\n",
       "      <td>NaN</td>\n",
       "      <td>37.829645</td>\n",
       "      <td>-122.483233</td>\n",
       "      <td>551068</td>\n",
       "      <td>Subscriber</td>\n",
       "      <td>NaN</td>\n",
       "      <td>app</td>\n",
       "    </tr>\n",
       "    <tr>\n",
       "      <th>4890395</th>\n",
       "      <td>2297</td>\n",
       "      <td>2019-12-28 14:49:17</td>\n",
       "      <td>2019-12-28 15:27:34</td>\n",
       "      <td>NaN</td>\n",
       "      <td>NaN</td>\n",
       "      <td>37.809275</td>\n",
       "      <td>-122.475875</td>\n",
       "      <td>NaN</td>\n",
       "      <td>NaN</td>\n",
       "      <td>37.829634</td>\n",
       "      <td>-122.483242</td>\n",
       "      <td>593917</td>\n",
       "      <td>Subscriber</td>\n",
       "      <td>NaN</td>\n",
       "      <td>app</td>\n",
       "    </tr>\n",
       "    <tr>\n",
       "      <th>4890396</th>\n",
       "      <td>1816</td>\n",
       "      <td>2019-12-27 17:58:23</td>\n",
       "      <td>2019-12-27 18:28:40</td>\n",
       "      <td>NaN</td>\n",
       "      <td>NaN</td>\n",
       "      <td>37.809291</td>\n",
       "      <td>-122.414682</td>\n",
       "      <td>NaN</td>\n",
       "      <td>NaN</td>\n",
       "      <td>37.776921</td>\n",
       "      <td>-122.419472</td>\n",
       "      <td>326273</td>\n",
       "      <td>Subscriber</td>\n",
       "      <td>NaN</td>\n",
       "      <td>app</td>\n",
       "    </tr>\n",
       "    <tr>\n",
       "      <th>4890397</th>\n",
       "      <td>687</td>\n",
       "      <td>2019-12-24 18:21:20</td>\n",
       "      <td>2019-12-24 18:32:47</td>\n",
       "      <td>NaN</td>\n",
       "      <td>NaN</td>\n",
       "      <td>37.809576</td>\n",
       "      <td>-122.412358</td>\n",
       "      <td>NaN</td>\n",
       "      <td>NaN</td>\n",
       "      <td>37.807259</td>\n",
       "      <td>-122.410570</td>\n",
       "      <td>607037</td>\n",
       "      <td>Customer</td>\n",
       "      <td>NaN</td>\n",
       "      <td>app</td>\n",
       "    </tr>\n",
       "    <tr>\n",
       "      <th>4890398</th>\n",
       "      <td>711</td>\n",
       "      <td>2019-12-24 18:21:41</td>\n",
       "      <td>2019-12-24 18:33:33</td>\n",
       "      <td>NaN</td>\n",
       "      <td>NaN</td>\n",
       "      <td>37.809578</td>\n",
       "      <td>-122.412348</td>\n",
       "      <td>NaN</td>\n",
       "      <td>NaN</td>\n",
       "      <td>37.807330</td>\n",
       "      <td>-122.410621</td>\n",
       "      <td>167109</td>\n",
       "      <td>Customer</td>\n",
       "      <td>NaN</td>\n",
       "      <td>app</td>\n",
       "    </tr>\n",
       "    <tr>\n",
       "      <th>4890399</th>\n",
       "      <td>731</td>\n",
       "      <td>2019-12-28 18:37:29</td>\n",
       "      <td>2019-12-28 18:49:40</td>\n",
       "      <td>NaN</td>\n",
       "      <td>NaN</td>\n",
       "      <td>37.809731</td>\n",
       "      <td>-122.409855</td>\n",
       "      <td>NaN</td>\n",
       "      <td>NaN</td>\n",
       "      <td>37.807573</td>\n",
       "      <td>-122.421681</td>\n",
       "      <td>719651</td>\n",
       "      <td>Subscriber</td>\n",
       "      <td>NaN</td>\n",
       "      <td>app</td>\n",
       "    </tr>\n",
       "    <tr>\n",
       "      <th>4890400</th>\n",
       "      <td>748</td>\n",
       "      <td>2019-12-28 18:37:24</td>\n",
       "      <td>2019-12-28 18:49:53</td>\n",
       "      <td>NaN</td>\n",
       "      <td>NaN</td>\n",
       "      <td>37.809768</td>\n",
       "      <td>-122.409797</td>\n",
       "      <td>NaN</td>\n",
       "      <td>NaN</td>\n",
       "      <td>37.807558</td>\n",
       "      <td>-122.421638</td>\n",
       "      <td>655411</td>\n",
       "      <td>Subscriber</td>\n",
       "      <td>NaN</td>\n",
       "      <td>app</td>\n",
       "    </tr>\n",
       "    <tr>\n",
       "      <th>4890401</th>\n",
       "      <td>1044</td>\n",
       "      <td>2019-12-26 14:25:37</td>\n",
       "      <td>2019-12-26 14:43:02</td>\n",
       "      <td>NaN</td>\n",
       "      <td>NaN</td>\n",
       "      <td>37.810183</td>\n",
       "      <td>-122.410271</td>\n",
       "      <td>NaN</td>\n",
       "      <td>NaN</td>\n",
       "      <td>37.807225</td>\n",
       "      <td>-122.408850</td>\n",
       "      <td>936881</td>\n",
       "      <td>Subscriber</td>\n",
       "      <td>NaN</td>\n",
       "      <td>app</td>\n",
       "    </tr>\n",
       "    <tr>\n",
       "      <th>4890402</th>\n",
       "      <td>326</td>\n",
       "      <td>2019-12-30 20:35:43</td>\n",
       "      <td>2019-12-30 20:41:09</td>\n",
       "      <td>NaN</td>\n",
       "      <td>NaN</td>\n",
       "      <td>37.810471</td>\n",
       "      <td>-122.417386</td>\n",
       "      <td>NaN</td>\n",
       "      <td>NaN</td>\n",
       "      <td>37.803143</td>\n",
       "      <td>-122.414373</td>\n",
       "      <td>397539</td>\n",
       "      <td>Subscriber</td>\n",
       "      <td>NaN</td>\n",
       "      <td>app</td>\n",
       "    </tr>\n",
       "    <tr>\n",
       "      <th>4890403</th>\n",
       "      <td>4023</td>\n",
       "      <td>2019-12-31 19:26:48</td>\n",
       "      <td>2019-12-31 20:33:52</td>\n",
       "      <td>NaN</td>\n",
       "      <td>NaN</td>\n",
       "      <td>37.811042</td>\n",
       "      <td>-122.418149</td>\n",
       "      <td>NaN</td>\n",
       "      <td>NaN</td>\n",
       "      <td>37.810970</td>\n",
       "      <td>-122.418054</td>\n",
       "      <td>662304</td>\n",
       "      <td>Subscriber</td>\n",
       "      <td>NaN</td>\n",
       "      <td>app</td>\n",
       "    </tr>\n",
       "  </tbody>\n",
       "</table>\n",
       "</div>"
      ],
      "text/plain": [
       "         duration_sec           start_time             end_time  \\\n",
       "4890394          2336  2019-12-28 14:49:19  2019-12-28 15:28:15   \n",
       "4890395          2297  2019-12-28 14:49:17  2019-12-28 15:27:34   \n",
       "4890396          1816  2019-12-27 17:58:23  2019-12-27 18:28:40   \n",
       "4890397           687  2019-12-24 18:21:20  2019-12-24 18:32:47   \n",
       "4890398           711  2019-12-24 18:21:41  2019-12-24 18:33:33   \n",
       "4890399           731  2019-12-28 18:37:29  2019-12-28 18:49:40   \n",
       "4890400           748  2019-12-28 18:37:24  2019-12-28 18:49:53   \n",
       "4890401          1044  2019-12-26 14:25:37  2019-12-26 14:43:02   \n",
       "4890402           326  2019-12-30 20:35:43  2019-12-30 20:41:09   \n",
       "4890403          4023  2019-12-31 19:26:48  2019-12-31 20:33:52   \n",
       "\n",
       "         start_station_id start_station_name  start_station_latitude  \\\n",
       "4890394               NaN                NaN               37.809270   \n",
       "4890395               NaN                NaN               37.809275   \n",
       "4890396               NaN                NaN               37.809291   \n",
       "4890397               NaN                NaN               37.809576   \n",
       "4890398               NaN                NaN               37.809578   \n",
       "4890399               NaN                NaN               37.809731   \n",
       "4890400               NaN                NaN               37.809768   \n",
       "4890401               NaN                NaN               37.810183   \n",
       "4890402               NaN                NaN               37.810471   \n",
       "4890403               NaN                NaN               37.811042   \n",
       "\n",
       "         start_station_longitude  end_station_id end_station_name  \\\n",
       "4890394              -122.475899             NaN              NaN   \n",
       "4890395              -122.475875             NaN              NaN   \n",
       "4890396              -122.414682             NaN              NaN   \n",
       "4890397              -122.412358             NaN              NaN   \n",
       "4890398              -122.412348             NaN              NaN   \n",
       "4890399              -122.409855             NaN              NaN   \n",
       "4890400              -122.409797             NaN              NaN   \n",
       "4890401              -122.410271             NaN              NaN   \n",
       "4890402              -122.417386             NaN              NaN   \n",
       "4890403              -122.418149             NaN              NaN   \n",
       "\n",
       "         end_station_latitude  end_station_longitude  bike_id   user_type  \\\n",
       "4890394             37.829645            -122.483233   551068  Subscriber   \n",
       "4890395             37.829634            -122.483242   593917  Subscriber   \n",
       "4890396             37.776921            -122.419472   326273  Subscriber   \n",
       "4890397             37.807259            -122.410570   607037    Customer   \n",
       "4890398             37.807330            -122.410621   167109    Customer   \n",
       "4890399             37.807573            -122.421681   719651  Subscriber   \n",
       "4890400             37.807558            -122.421638   655411  Subscriber   \n",
       "4890401             37.807225            -122.408850   936881  Subscriber   \n",
       "4890402             37.803143            -122.414373   397539  Subscriber   \n",
       "4890403             37.810970            -122.418054   662304  Subscriber   \n",
       "\n",
       "        bike_share_for_all_trip rental_access_method  \n",
       "4890394                     NaN                  app  \n",
       "4890395                     NaN                  app  \n",
       "4890396                     NaN                  app  \n",
       "4890397                     NaN                  app  \n",
       "4890398                     NaN                  app  \n",
       "4890399                     NaN                  app  \n",
       "4890400                     NaN                  app  \n",
       "4890401                     NaN                  app  \n",
       "4890402                     NaN                  app  \n",
       "4890403                     NaN                  app  "
      ]
     },
     "execution_count": 6,
     "metadata": {},
     "output_type": "execute_result"
    }
   ],
   "source": [
    "df.tail(10)"
   ]
  },
  {
   "cell_type": "code",
   "execution_count": 7,
   "metadata": {},
   "outputs": [
    {
     "name": "stdout",
     "output_type": "stream",
     "text": [
      "<class 'pandas.core.frame.DataFrame'>\n",
      "RangeIndex: 4890404 entries, 0 to 4890403\n",
      "Data columns (total 15 columns):\n",
      " #   Column                   Dtype  \n",
      "---  ------                   -----  \n",
      " 0   duration_sec             int64  \n",
      " 1   start_time               object \n",
      " 2   end_time                 object \n",
      " 3   start_station_id         float64\n",
      " 4   start_station_name       object \n",
      " 5   start_station_latitude   float64\n",
      " 6   start_station_longitude  float64\n",
      " 7   end_station_id           float64\n",
      " 8   end_station_name         object \n",
      " 9   end_station_latitude     float64\n",
      " 10  end_station_longitude    float64\n",
      " 11  bike_id                  int64  \n",
      " 12  user_type                object \n",
      " 13  bike_share_for_all_trip  object \n",
      " 14  rental_access_method     object \n",
      "dtypes: float64(6), int64(2), object(7)\n",
      "memory usage: 559.7+ MB\n"
     ]
    }
   ],
   "source": [
    "df.info()"
   ]
  },
  {
   "cell_type": "code",
   "execution_count": 8,
   "metadata": {},
   "outputs": [
    {
     "data": {
      "text/plain": [
       "duration_sec                     0\n",
       "start_time                       0\n",
       "end_time                         0\n",
       "start_station_id             92505\n",
       "start_station_name           91904\n",
       "start_station_latitude           0\n",
       "start_station_longitude          0\n",
       "end_station_id               94673\n",
       "end_station_name             94121\n",
       "end_station_latitude             0\n",
       "end_station_longitude            0\n",
       "bike_id                          0\n",
       "user_type                        0\n",
       "bike_share_for_all_trip     762959\n",
       "rental_access_method       4769566\n",
       "dtype: int64"
      ]
     },
     "execution_count": 8,
     "metadata": {},
     "output_type": "execute_result"
    }
   ],
   "source": [
    "df.isnull().sum()"
   ]
  },
  {
   "cell_type": "markdown",
   "metadata": {},
   "source": [
    "***First, we will start by exploring the missing data. We will check out the missing data in rental_access_method.***"
   ]
  },
  {
   "cell_type": "code",
   "execution_count": 9,
   "metadata": {},
   "outputs": [
    {
     "data": {
      "image/png": "[encoded data removed]",
      "text/plain": [
       "<Figure size 432x288 with 1 Axes>"
      ]
     },
     "metadata": {
      "needs_background": "light"
     },
     "output_type": "display_data"
    }
   ],
   "source": [
    "null_count = df.isnull().sum()\n",
    "base_color = sb.color_palette()[0]\n",
    "sb.barplot(null_count.index.values, null_count, color = base_color)\n",
    "plt.xticks(rotation = 90);"
   ]
  },
  {
   "cell_type": "code",
   "execution_count": 10,
   "metadata": {},
   "outputs": [
    {
     "data": {
      "text/plain": [
       "<matplotlib.axes._subplots.AxesSubplot at 0x20c027d4dc8>"
      ]
     },
     "execution_count": 10,
     "metadata": {},
     "output_type": "execute_result"
    },
    {
     "data": {
      "image/png": "[encoded data removed]",
      "text/plain": [
       "<Figure size 432x288 with 1 Axes>"
      ]
     },
     "metadata": {
      "needs_background": "light"
     },
     "output_type": "display_data"
    }
   ],
   "source": [
    "sb.countplot(data = df, x='rental_access_method', color = base_color)\n"
   ]
  },
  {
   "cell_type": "code",
   "execution_count": 11,
   "metadata": {},
   "outputs": [
    {
     "data": {
      "text/plain": [
       "Text(0.5, 0, 'bike share for all the trip')"
      ]
     },
     "execution_count": 11,
     "metadata": {},
     "output_type": "execute_result"
    },
    {
     "data": {
      "image/png": "[encoded data removed]",
      "text/plain": [
       "<Figure size 432x288 with 1 Axes>"
      ]
     },
     "metadata": {
      "needs_background": "light"
     },
     "output_type": "display_data"
    }
   ],
   "source": [
    "sb.countplot(data = df, x='bike_share_for_all_trip', color = base_color)\n",
    "plt.xlabel('bike share for all the trip')"
   ]
  },
  {
   "cell_type": "code",
   "execution_count": 12,
   "metadata": {},
   "outputs": [
    {
     "data": {
      "text/plain": [
       "762959"
      ]
     },
     "execution_count": 12,
     "metadata": {},
     "output_type": "execute_result"
    }
   ],
   "source": [
    "df['bike_share_for_all_trip'].isnull().sum()\n"
   ]
  },
  {
   "cell_type": "code",
   "execution_count": 13,
   "metadata": {},
   "outputs": [
    {
     "data": {
      "text/html": [
       "<div>\n",
       "<style scoped>\n",
       "    .dataframe tbody tr th:only-of-type {\n",
       "        vertical-align: middle;\n",
       "    }\n",
       "\n",
       "    .dataframe tbody tr th {\n",
       "        vertical-align: top;\n",
       "    }\n",
       "\n",
       "    .dataframe thead th {\n",
       "        text-align: right;\n",
       "    }\n",
       "</style>\n",
       "<table border=\"1\" class=\"dataframe\">\n",
       "  <thead>\n",
       "    <tr style=\"text-align: right;\">\n",
       "      <th></th>\n",
       "      <th>duration_sec</th>\n",
       "      <th>start_time</th>\n",
       "      <th>end_time</th>\n",
       "      <th>start_station_id</th>\n",
       "      <th>start_station_name</th>\n",
       "      <th>start_station_latitude</th>\n",
       "      <th>start_station_longitude</th>\n",
       "      <th>end_station_id</th>\n",
       "      <th>end_station_name</th>\n",
       "      <th>end_station_latitude</th>\n",
       "      <th>end_station_longitude</th>\n",
       "      <th>bike_id</th>\n",
       "      <th>user_type</th>\n",
       "      <th>bike_share_for_all_trip</th>\n",
       "      <th>rental_access_method</th>\n",
       "    </tr>\n",
       "  </thead>\n",
       "  <tbody>\n",
       "  </tbody>\n",
       "</table>\n",
       "</div>"
      ],
      "text/plain": [
       "Empty DataFrame\n",
       "Columns: [duration_sec, start_time, end_time, start_station_id, start_station_name, start_station_latitude, start_station_longitude, end_station_id, end_station_name, end_station_latitude, end_station_longitude, bike_id, user_type, bike_share_for_all_trip, rental_access_method]\n",
       "Index: []"
      ]
     },
     "execution_count": 13,
     "metadata": {},
     "output_type": "execute_result"
    }
   ],
   "source": [
    "df[df.duplicated(['start_time', 'end_time', 'start_station_id', 'end_station_id','bike_id'])]"
   ]
  },
  {
   "cell_type": "code",
   "execution_count": 14,
   "metadata": {},
   "outputs": [
    {
     "data": {
      "text/plain": [
       "Text(0.5, 0, 'User Type')"
      ]
     },
     "execution_count": 14,
     "metadata": {},
     "output_type": "execute_result"
    },
    {
     "data": {
      "image/png": "[encoded data removed]",
      "text/plain": [
       "<Figure size 432x288 with 1 Axes>"
      ]
     },
     "metadata": {
      "needs_background": "light"
     },
     "output_type": "display_data"
    }
   ],
   "source": [
    "sb.countplot(data = df, x='user_type', color = base_color )\n",
    "plt.xlabel('User Type')"
   ]
  },
  {
   "cell_type": "code",
   "execution_count": 15,
   "metadata": {},
   "outputs": [
    {
     "data": {
      "text/plain": [
       "Text(0.5, 0, \"start station's name\")"
      ]
     },
     "execution_count": 15,
     "metadata": {},
     "output_type": "execute_result"
    },
    {
     "data": {
      "image/png": "[encoded data removed]",
      "text/plain": [
       "<Figure size 432x288 with 1 Axes>"
      ]
     },
     "metadata": {
      "needs_background": "light"
     },
     "output_type": "display_data"
    }
   ],
   "source": [
    "sb.countplot(data = df, x= 'start_station_name', color = base_color)\n",
    "plt.xlabel('start station\\'s name')"
   ]
  },
  {
   "cell_type": "markdown",
   "metadata": {},
   "source": [
    "***I tried to run the following plot, but it was not running.***"
   ]
  },
  {
   "cell_type": "code",
   "execution_count": 16,
   "metadata": {},
   "outputs": [
    {
     "data": {
      "text/plain": [
       "count    4.890404e+06\n",
       "mean     8.575342e+02\n",
       "std      2.325582e+03\n",
       "min      6.000000e+01\n",
       "25%      3.580000e+02\n",
       "50%      5.680000e+02\n",
       "75%      8.860000e+02\n",
       "max      9.121100e+05\n",
       "Name: duration_sec, dtype: float64"
      ]
     },
     "execution_count": 16,
     "metadata": {},
     "output_type": "execute_result"
    }
   ],
   "source": [
    "df.duration_sec.describe()"
   ]
  },
  {
   "cell_type": "code",
   "execution_count": 17,
   "metadata": {},
   "outputs": [
    {
     "data": {
      "text/plain": [
       "(array([0.000e+00, 0.000e+00, 2.284e+04, ..., 0.000e+00, 0.000e+00,\n",
       "        1.000e+00]),\n",
       " array([     0,     30,     60, ..., 912060, 912090, 912120], dtype=int64),\n",
       " <a list of 30404 Patch objects>)"
      ]
     },
     "execution_count": 17,
     "metadata": {},
     "output_type": "execute_result"
    },
    {
     "data": {
      "image/png": "[encoded data removed]",
      "text/plain": [
       "<Figure size 432x288 with 1 Axes>"
      ]
     },
     "metadata": {
      "needs_background": "light"
     },
     "output_type": "display_data"
    }
   ],
   "source": [
    "bins_edges = np.arange(0, df.duration_sec.max()+30, 30)\n",
    "plt.hist(data = df, x= 'duration_sec', bins = bins_edges)"
   ]
  },
  {
   "cell_type": "markdown",
   "metadata": {},
   "source": [
    "### Cleaning Data "
   ]
  },
  {
   "cell_type": "markdown",
   "metadata": {},
   "source": [
    "- We will start by copying df. "
   ]
  },
  {
   "cell_type": "code",
   "execution_count": 18,
   "metadata": {},
   "outputs": [],
   "source": [
    "df_clean = df.copy()"
   ]
  },
  {
   "cell_type": "markdown",
   "metadata": {},
   "source": [
    "***Duration has faulty values.***\n",
    "\n",
    "*Define*\n",
    "- We should divide all the values within this column with sixty.\n",
    "\n",
    "*Code*"
   ]
  },
  {
   "cell_type": "code",
   "execution_count": 19,
   "metadata": {},
   "outputs": [],
   "source": [
    "df_clean['duration'] = df_clean['duration_sec']/3600.0"
   ]
  },
  {
   "cell_type": "code",
   "execution_count": 20,
   "metadata": {},
   "outputs": [],
   "source": [
    "df_clean.drop(columns = {'duration_sec'}, inplace = True)"
   ]
  },
  {
   "cell_type": "markdown",
   "metadata": {},
   "source": [
    "*Test*"
   ]
  },
  {
   "cell_type": "code",
   "execution_count": 21,
   "metadata": {
    "scrolled": true
   },
   "outputs": [
    {
     "data": {
      "text/html": [
       "<div>\n",
       "<style scoped>\n",
       "    .dataframe tbody tr th:only-of-type {\n",
       "        vertical-align: middle;\n",
       "    }\n",
       "\n",
       "    .dataframe tbody tr th {\n",
       "        vertical-align: top;\n",
       "    }\n",
       "\n",
       "    .dataframe thead th {\n",
       "        text-align: right;\n",
       "    }\n",
       "</style>\n",
       "<table border=\"1\" class=\"dataframe\">\n",
       "  <thead>\n",
       "    <tr style=\"text-align: right;\">\n",
       "      <th></th>\n",
       "      <th>start_time</th>\n",
       "      <th>end_time</th>\n",
       "      <th>start_station_id</th>\n",
       "      <th>start_station_name</th>\n",
       "      <th>start_station_latitude</th>\n",
       "      <th>start_station_longitude</th>\n",
       "      <th>end_station_id</th>\n",
       "      <th>end_station_name</th>\n",
       "      <th>end_station_latitude</th>\n",
       "      <th>end_station_longitude</th>\n",
       "      <th>bike_id</th>\n",
       "      <th>user_type</th>\n",
       "      <th>bike_share_for_all_trip</th>\n",
       "      <th>rental_access_method</th>\n",
       "      <th>duration</th>\n",
       "    </tr>\n",
       "  </thead>\n",
       "  <tbody>\n",
       "    <tr>\n",
       "      <th>0</th>\n",
       "      <td>2017-12-31 16:57:39.6540</td>\n",
       "      <td>2018-01-01 15:12:50.2450</td>\n",
       "      <td>74.0</td>\n",
       "      <td>Laguna St at Hayes St</td>\n",
       "      <td>37.776435</td>\n",
       "      <td>-122.426244</td>\n",
       "      <td>43.0</td>\n",
       "      <td>San Francisco Public Library (Grove St at Hyde...</td>\n",
       "      <td>37.778768</td>\n",
       "      <td>-122.415929</td>\n",
       "      <td>96</td>\n",
       "      <td>Customer</td>\n",
       "      <td>NaN</td>\n",
       "      <td>NaN</td>\n",
       "      <td>22.252778</td>\n",
       "    </tr>\n",
       "    <tr>\n",
       "      <th>1</th>\n",
       "      <td>2017-12-31 15:56:34.8420</td>\n",
       "      <td>2018-01-01 13:49:55.6170</td>\n",
       "      <td>284.0</td>\n",
       "      <td>Yerba Buena Center for the Arts (Howard St at ...</td>\n",
       "      <td>37.784872</td>\n",
       "      <td>-122.400876</td>\n",
       "      <td>96.0</td>\n",
       "      <td>Dolores St at 15th St</td>\n",
       "      <td>37.766210</td>\n",
       "      <td>-122.426614</td>\n",
       "      <td>88</td>\n",
       "      <td>Customer</td>\n",
       "      <td>NaN</td>\n",
       "      <td>NaN</td>\n",
       "      <td>21.888889</td>\n",
       "    </tr>\n",
       "    <tr>\n",
       "      <th>2</th>\n",
       "      <td>2017-12-31 22:45:48.4110</td>\n",
       "      <td>2018-01-01 11:28:36.8830</td>\n",
       "      <td>245.0</td>\n",
       "      <td>Downtown Berkeley BART</td>\n",
       "      <td>37.870348</td>\n",
       "      <td>-122.267764</td>\n",
       "      <td>245.0</td>\n",
       "      <td>Downtown Berkeley BART</td>\n",
       "      <td>37.870348</td>\n",
       "      <td>-122.267764</td>\n",
       "      <td>1094</td>\n",
       "      <td>Customer</td>\n",
       "      <td>NaN</td>\n",
       "      <td>NaN</td>\n",
       "      <td>12.713333</td>\n",
       "    </tr>\n",
       "    <tr>\n",
       "      <th>3</th>\n",
       "      <td>2017-12-31 17:31:10.6360</td>\n",
       "      <td>2018-01-01 10:47:23.5310</td>\n",
       "      <td>60.0</td>\n",
       "      <td>8th St at Ringold St</td>\n",
       "      <td>37.774520</td>\n",
       "      <td>-122.409449</td>\n",
       "      <td>5.0</td>\n",
       "      <td>Powell St BART Station (Market St at 5th St)</td>\n",
       "      <td>37.783899</td>\n",
       "      <td>-122.408445</td>\n",
       "      <td>2831</td>\n",
       "      <td>Customer</td>\n",
       "      <td>NaN</td>\n",
       "      <td>NaN</td>\n",
       "      <td>17.270000</td>\n",
       "    </tr>\n",
       "    <tr>\n",
       "      <th>4</th>\n",
       "      <td>2017-12-31 14:23:14.0010</td>\n",
       "      <td>2018-01-01 02:29:57.5710</td>\n",
       "      <td>239.0</td>\n",
       "      <td>Bancroft Way at Telegraph Ave</td>\n",
       "      <td>37.868813</td>\n",
       "      <td>-122.258764</td>\n",
       "      <td>247.0</td>\n",
       "      <td>Fulton St at Bancroft Way</td>\n",
       "      <td>37.867789</td>\n",
       "      <td>-122.265896</td>\n",
       "      <td>3167</td>\n",
       "      <td>Subscriber</td>\n",
       "      <td>NaN</td>\n",
       "      <td>NaN</td>\n",
       "      <td>12.111944</td>\n",
       "    </tr>\n",
       "    <tr>\n",
       "      <th>5</th>\n",
       "      <td>2017-12-31 22:51:00.9180</td>\n",
       "      <td>2018-01-01 01:24:47.1660</td>\n",
       "      <td>30.0</td>\n",
       "      <td>San Francisco Caltrain (Townsend St at 4th St)</td>\n",
       "      <td>37.776598</td>\n",
       "      <td>-122.395282</td>\n",
       "      <td>30.0</td>\n",
       "      <td>San Francisco Caltrain (Townsend St at 4th St)</td>\n",
       "      <td>37.776598</td>\n",
       "      <td>-122.395282</td>\n",
       "      <td>1487</td>\n",
       "      <td>Customer</td>\n",
       "      <td>NaN</td>\n",
       "      <td>NaN</td>\n",
       "      <td>2.562778</td>\n",
       "    </tr>\n",
       "    <tr>\n",
       "      <th>6</th>\n",
       "      <td>2017-12-31 23:49:28.4220</td>\n",
       "      <td>2018-01-01 01:04:35.6190</td>\n",
       "      <td>259.0</td>\n",
       "      <td>Addison St at Fourth St</td>\n",
       "      <td>37.866249</td>\n",
       "      <td>-122.299371</td>\n",
       "      <td>259.0</td>\n",
       "      <td>Addison St at Fourth St</td>\n",
       "      <td>37.866249</td>\n",
       "      <td>-122.299371</td>\n",
       "      <td>3539</td>\n",
       "      <td>Customer</td>\n",
       "      <td>NaN</td>\n",
       "      <td>NaN</td>\n",
       "      <td>1.251944</td>\n",
       "    </tr>\n",
       "    <tr>\n",
       "      <th>7</th>\n",
       "      <td>2017-12-31 23:46:37.1960</td>\n",
       "      <td>2018-01-01 00:58:51.2110</td>\n",
       "      <td>284.0</td>\n",
       "      <td>Yerba Buena Center for the Arts (Howard St at ...</td>\n",
       "      <td>37.784872</td>\n",
       "      <td>-122.400876</td>\n",
       "      <td>284.0</td>\n",
       "      <td>Yerba Buena Center for the Arts (Howard St at ...</td>\n",
       "      <td>37.784872</td>\n",
       "      <td>-122.400876</td>\n",
       "      <td>1503</td>\n",
       "      <td>Customer</td>\n",
       "      <td>NaN</td>\n",
       "      <td>NaN</td>\n",
       "      <td>1.203889</td>\n",
       "    </tr>\n",
       "    <tr>\n",
       "      <th>8</th>\n",
       "      <td>2017-12-31 23:37:07.5480</td>\n",
       "      <td>2018-01-01 00:46:18.3080</td>\n",
       "      <td>20.0</td>\n",
       "      <td>Mechanics Monument Plaza (Market St at Bush St)</td>\n",
       "      <td>37.791300</td>\n",
       "      <td>-122.399051</td>\n",
       "      <td>20.0</td>\n",
       "      <td>Mechanics Monument Plaza (Market St at Bush St)</td>\n",
       "      <td>37.791300</td>\n",
       "      <td>-122.399051</td>\n",
       "      <td>3125</td>\n",
       "      <td>Customer</td>\n",
       "      <td>NaN</td>\n",
       "      <td>NaN</td>\n",
       "      <td>1.152778</td>\n",
       "    </tr>\n",
       "    <tr>\n",
       "      <th>9</th>\n",
       "      <td>2017-12-31 23:35:38.1450</td>\n",
       "      <td>2018-01-01 00:46:17.0530</td>\n",
       "      <td>20.0</td>\n",
       "      <td>Mechanics Monument Plaza (Market St at Bush St)</td>\n",
       "      <td>37.791300</td>\n",
       "      <td>-122.399051</td>\n",
       "      <td>20.0</td>\n",
       "      <td>Mechanics Monument Plaza (Market St at Bush St)</td>\n",
       "      <td>37.791300</td>\n",
       "      <td>-122.399051</td>\n",
       "      <td>2543</td>\n",
       "      <td>Customer</td>\n",
       "      <td>NaN</td>\n",
       "      <td>NaN</td>\n",
       "      <td>1.177222</td>\n",
       "    </tr>\n",
       "    <tr>\n",
       "      <th>10</th>\n",
       "      <td>2017-12-31 23:46:32.4030</td>\n",
       "      <td>2018-01-01 00:41:24.6050</td>\n",
       "      <td>284.0</td>\n",
       "      <td>Yerba Buena Center for the Arts (Howard St at ...</td>\n",
       "      <td>37.784872</td>\n",
       "      <td>-122.400876</td>\n",
       "      <td>22.0</td>\n",
       "      <td>Howard St at Beale St</td>\n",
       "      <td>37.789756</td>\n",
       "      <td>-122.394643</td>\n",
       "      <td>3058</td>\n",
       "      <td>Customer</td>\n",
       "      <td>NaN</td>\n",
       "      <td>NaN</td>\n",
       "      <td>0.914444</td>\n",
       "    </tr>\n",
       "    <tr>\n",
       "      <th>11</th>\n",
       "      <td>2017-12-31 23:48:11.7570</td>\n",
       "      <td>2018-01-01 00:41:09.5810</td>\n",
       "      <td>284.0</td>\n",
       "      <td>Yerba Buena Center for the Arts (Howard St at ...</td>\n",
       "      <td>37.784872</td>\n",
       "      <td>-122.400876</td>\n",
       "      <td>22.0</td>\n",
       "      <td>Howard St at Beale St</td>\n",
       "      <td>37.789756</td>\n",
       "      <td>-122.394643</td>\n",
       "      <td>3197</td>\n",
       "      <td>Customer</td>\n",
       "      <td>NaN</td>\n",
       "      <td>NaN</td>\n",
       "      <td>0.882500</td>\n",
       "    </tr>\n",
       "    <tr>\n",
       "      <th>12</th>\n",
       "      <td>2017-12-31 23:52:55.5810</td>\n",
       "      <td>2018-01-01 00:29:18.7430</td>\n",
       "      <td>67.0</td>\n",
       "      <td>San Francisco Caltrain Station 2  (Townsend St...</td>\n",
       "      <td>37.776639</td>\n",
       "      <td>-122.395526</td>\n",
       "      <td>24.0</td>\n",
       "      <td>Spear St at Folsom St</td>\n",
       "      <td>37.789677</td>\n",
       "      <td>-122.390428</td>\n",
       "      <td>2311</td>\n",
       "      <td>Subscriber</td>\n",
       "      <td>NaN</td>\n",
       "      <td>NaN</td>\n",
       "      <td>0.606389</td>\n",
       "    </tr>\n",
       "    <tr>\n",
       "      <th>13</th>\n",
       "      <td>2017-12-31 23:52:55.9370</td>\n",
       "      <td>2018-01-01 00:29:06.9240</td>\n",
       "      <td>67.0</td>\n",
       "      <td>San Francisco Caltrain Station 2  (Townsend St...</td>\n",
       "      <td>37.776639</td>\n",
       "      <td>-122.395526</td>\n",
       "      <td>24.0</td>\n",
       "      <td>Spear St at Folsom St</td>\n",
       "      <td>37.789677</td>\n",
       "      <td>-122.390428</td>\n",
       "      <td>3717</td>\n",
       "      <td>Subscriber</td>\n",
       "      <td>NaN</td>\n",
       "      <td>NaN</td>\n",
       "      <td>0.602778</td>\n",
       "    </tr>\n",
       "    <tr>\n",
       "      <th>14</th>\n",
       "      <td>2017-12-31 23:35:23.2220</td>\n",
       "      <td>2018-01-01 00:20:20.8130</td>\n",
       "      <td>66.0</td>\n",
       "      <td>3rd St at Townsend St</td>\n",
       "      <td>37.778742</td>\n",
       "      <td>-122.392741</td>\n",
       "      <td>23.0</td>\n",
       "      <td>The Embarcadero at Steuart St</td>\n",
       "      <td>37.791464</td>\n",
       "      <td>-122.391034</td>\n",
       "      <td>3452</td>\n",
       "      <td>Customer</td>\n",
       "      <td>NaN</td>\n",
       "      <td>NaN</td>\n",
       "      <td>0.749167</td>\n",
       "    </tr>\n",
       "    <tr>\n",
       "      <th>15</th>\n",
       "      <td>2017-12-31 23:53:38.9430</td>\n",
       "      <td>2018-01-01 00:19:23.0470</td>\n",
       "      <td>14.0</td>\n",
       "      <td>Clay St at Battery St</td>\n",
       "      <td>37.795001</td>\n",
       "      <td>-122.399970</td>\n",
       "      <td>27.0</td>\n",
       "      <td>Beale St at Harrison St</td>\n",
       "      <td>37.788059</td>\n",
       "      <td>-122.391865</td>\n",
       "      <td>558</td>\n",
       "      <td>Subscriber</td>\n",
       "      <td>NaN</td>\n",
       "      <td>NaN</td>\n",
       "      <td>0.428889</td>\n",
       "    </tr>\n",
       "    <tr>\n",
       "      <th>16</th>\n",
       "      <td>2017-12-31 23:54:40.1460</td>\n",
       "      <td>2018-01-01 00:19:14.3510</td>\n",
       "      <td>14.0</td>\n",
       "      <td>Clay St at Battery St</td>\n",
       "      <td>37.795001</td>\n",
       "      <td>-122.399970</td>\n",
       "      <td>27.0</td>\n",
       "      <td>Beale St at Harrison St</td>\n",
       "      <td>37.788059</td>\n",
       "      <td>-122.391865</td>\n",
       "      <td>3646</td>\n",
       "      <td>Subscriber</td>\n",
       "      <td>NaN</td>\n",
       "      <td>NaN</td>\n",
       "      <td>0.409444</td>\n",
       "    </tr>\n",
       "    <tr>\n",
       "      <th>17</th>\n",
       "      <td>2017-12-31 23:55:09.6860</td>\n",
       "      <td>2018-01-01 00:18:26.7210</td>\n",
       "      <td>78.0</td>\n",
       "      <td>Folsom St at 9th St</td>\n",
       "      <td>37.773717</td>\n",
       "      <td>-122.411647</td>\n",
       "      <td>15.0</td>\n",
       "      <td>San Francisco Ferry Building (Harry Bridges Pl...</td>\n",
       "      <td>37.795392</td>\n",
       "      <td>-122.394203</td>\n",
       "      <td>1667</td>\n",
       "      <td>Customer</td>\n",
       "      <td>NaN</td>\n",
       "      <td>NaN</td>\n",
       "      <td>0.388056</td>\n",
       "    </tr>\n",
       "    <tr>\n",
       "      <th>18</th>\n",
       "      <td>2017-12-31 23:52:49.4970</td>\n",
       "      <td>2018-01-01 00:18:21.9530</td>\n",
       "      <td>78.0</td>\n",
       "      <td>Folsom St at 9th St</td>\n",
       "      <td>37.773717</td>\n",
       "      <td>-122.411647</td>\n",
       "      <td>15.0</td>\n",
       "      <td>San Francisco Ferry Building (Harry Bridges Pl...</td>\n",
       "      <td>37.795392</td>\n",
       "      <td>-122.394203</td>\n",
       "      <td>3114</td>\n",
       "      <td>Subscriber</td>\n",
       "      <td>NaN</td>\n",
       "      <td>NaN</td>\n",
       "      <td>0.425556</td>\n",
       "    </tr>\n",
       "    <tr>\n",
       "      <th>19</th>\n",
       "      <td>2017-12-31 23:46:33.9930</td>\n",
       "      <td>2018-01-01 00:06:50.0580</td>\n",
       "      <td>4.0</td>\n",
       "      <td>Cyril Magnin St at Ellis St</td>\n",
       "      <td>37.785881</td>\n",
       "      <td>-122.408915</td>\n",
       "      <td>123.0</td>\n",
       "      <td>Folsom St at 19th St</td>\n",
       "      <td>37.760594</td>\n",
       "      <td>-122.414817</td>\n",
       "      <td>1473</td>\n",
       "      <td>Subscriber</td>\n",
       "      <td>NaN</td>\n",
       "      <td>NaN</td>\n",
       "      <td>0.337778</td>\n",
       "    </tr>\n",
       "  </tbody>\n",
       "</table>\n",
       "</div>"
      ],
      "text/plain": [
       "                  start_time                  end_time  start_station_id  \\\n",
       "0   2017-12-31 16:57:39.6540  2018-01-01 15:12:50.2450              74.0   \n",
       "1   2017-12-31 15:56:34.8420  2018-01-01 13:49:55.6170             284.0   \n",
       "2   2017-12-31 22:45:48.4110  2018-01-01 11:28:36.8830             245.0   \n",
       "3   2017-12-31 17:31:10.6360  2018-01-01 10:47:23.5310              60.0   \n",
       "4   2017-12-31 14:23:14.0010  2018-01-01 02:29:57.5710             239.0   \n",
       "5   2017-12-31 22:51:00.9180  2018-01-01 01:24:47.1660              30.0   \n",
       "6   2017-12-31 23:49:28.4220  2018-01-01 01:04:35.6190             259.0   \n",
       "7   2017-12-31 23:46:37.1960  2018-01-01 00:58:51.2110             284.0   \n",
       "8   2017-12-31 23:37:07.5480  2018-01-01 00:46:18.3080              20.0   \n",
       "9   2017-12-31 23:35:38.1450  2018-01-01 00:46:17.0530              20.0   \n",
       "10  2017-12-31 23:46:32.4030  2018-01-01 00:41:24.6050             284.0   \n",
       "11  2017-12-31 23:48:11.7570  2018-01-01 00:41:09.5810             284.0   \n",
       "12  2017-12-31 23:52:55.5810  2018-01-01 00:29:18.7430              67.0   \n",
       "13  2017-12-31 23:52:55.9370  2018-01-01 00:29:06.9240              67.0   \n",
       "14  2017-12-31 23:35:23.2220  2018-01-01 00:20:20.8130              66.0   \n",
       "15  2017-12-31 23:53:38.9430  2018-01-01 00:19:23.0470              14.0   \n",
       "16  2017-12-31 23:54:40.1460  2018-01-01 00:19:14.3510              14.0   \n",
       "17  2017-12-31 23:55:09.6860  2018-01-01 00:18:26.7210              78.0   \n",
       "18  2017-12-31 23:52:49.4970  2018-01-01 00:18:21.9530              78.0   \n",
       "19  2017-12-31 23:46:33.9930  2018-01-01 00:06:50.0580               4.0   \n",
       "\n",
       "                                   start_station_name  start_station_latitude  \\\n",
       "0                               Laguna St at Hayes St               37.776435   \n",
       "1   Yerba Buena Center for the Arts (Howard St at ...               37.784872   \n",
       "2                              Downtown Berkeley BART               37.870348   \n",
       "3                                8th St at Ringold St               37.774520   \n",
       "4                       Bancroft Way at Telegraph Ave               37.868813   \n",
       "5      San Francisco Caltrain (Townsend St at 4th St)               37.776598   \n",
       "6                             Addison St at Fourth St               37.866249   \n",
       "7   Yerba Buena Center for the Arts (Howard St at ...               37.784872   \n",
       "8     Mechanics Monument Plaza (Market St at Bush St)               37.791300   \n",
       "9     Mechanics Monument Plaza (Market St at Bush St)               37.791300   \n",
       "10  Yerba Buena Center for the Arts (Howard St at ...               37.784872   \n",
       "11  Yerba Buena Center for the Arts (Howard St at ...               37.784872   \n",
       "12  San Francisco Caltrain Station 2  (Townsend St...               37.776639   \n",
       "13  San Francisco Caltrain Station 2  (Townsend St...               37.776639   \n",
       "14                              3rd St at Townsend St               37.778742   \n",
       "15                              Clay St at Battery St               37.795001   \n",
       "16                              Clay St at Battery St               37.795001   \n",
       "17                                Folsom St at 9th St               37.773717   \n",
       "18                                Folsom St at 9th St               37.773717   \n",
       "19                        Cyril Magnin St at Ellis St               37.785881   \n",
       "\n",
       "    start_station_longitude  end_station_id  \\\n",
       "0               -122.426244            43.0   \n",
       "1               -122.400876            96.0   \n",
       "2               -122.267764           245.0   \n",
       "3               -122.409449             5.0   \n",
       "4               -122.258764           247.0   \n",
       "5               -122.395282            30.0   \n",
       "6               -122.299371           259.0   \n",
       "7               -122.400876           284.0   \n",
       "8               -122.399051            20.0   \n",
       "9               -122.399051            20.0   \n",
       "10              -122.400876            22.0   \n",
       "11              -122.400876            22.0   \n",
       "12              -122.395526            24.0   \n",
       "13              -122.395526            24.0   \n",
       "14              -122.392741            23.0   \n",
       "15              -122.399970            27.0   \n",
       "16              -122.399970            27.0   \n",
       "17              -122.411647            15.0   \n",
       "18              -122.411647            15.0   \n",
       "19              -122.408915           123.0   \n",
       "\n",
       "                                     end_station_name  end_station_latitude  \\\n",
       "0   San Francisco Public Library (Grove St at Hyde...             37.778768   \n",
       "1                               Dolores St at 15th St             37.766210   \n",
       "2                              Downtown Berkeley BART             37.870348   \n",
       "3        Powell St BART Station (Market St at 5th St)             37.783899   \n",
       "4                           Fulton St at Bancroft Way             37.867789   \n",
       "5      San Francisco Caltrain (Townsend St at 4th St)             37.776598   \n",
       "6                             Addison St at Fourth St             37.866249   \n",
       "7   Yerba Buena Center for the Arts (Howard St at ...             37.784872   \n",
       "8     Mechanics Monument Plaza (Market St at Bush St)             37.791300   \n",
       "9     Mechanics Monument Plaza (Market St at Bush St)             37.791300   \n",
       "10                              Howard St at Beale St             37.789756   \n",
       "11                              Howard St at Beale St             37.789756   \n",
       "12                              Spear St at Folsom St             37.789677   \n",
       "13                              Spear St at Folsom St             37.789677   \n",
       "14                      The Embarcadero at Steuart St             37.791464   \n",
       "15                            Beale St at Harrison St             37.788059   \n",
       "16                            Beale St at Harrison St             37.788059   \n",
       "17  San Francisco Ferry Building (Harry Bridges Pl...             37.795392   \n",
       "18  San Francisco Ferry Building (Harry Bridges Pl...             37.795392   \n",
       "19                               Folsom St at 19th St             37.760594   \n",
       "\n",
       "    end_station_longitude  bike_id   user_type bike_share_for_all_trip  \\\n",
       "0             -122.415929       96    Customer                     NaN   \n",
       "1             -122.426614       88    Customer                     NaN   \n",
       "2             -122.267764     1094    Customer                     NaN   \n",
       "3             -122.408445     2831    Customer                     NaN   \n",
       "4             -122.265896     3167  Subscriber                     NaN   \n",
       "5             -122.395282     1487    Customer                     NaN   \n",
       "6             -122.299371     3539    Customer                     NaN   \n",
       "7             -122.400876     1503    Customer                     NaN   \n",
       "8             -122.399051     3125    Customer                     NaN   \n",
       "9             -122.399051     2543    Customer                     NaN   \n",
       "10            -122.394643     3058    Customer                     NaN   \n",
       "11            -122.394643     3197    Customer                     NaN   \n",
       "12            -122.390428     2311  Subscriber                     NaN   \n",
       "13            -122.390428     3717  Subscriber                     NaN   \n",
       "14            -122.391034     3452    Customer                     NaN   \n",
       "15            -122.391865      558  Subscriber                     NaN   \n",
       "16            -122.391865     3646  Subscriber                     NaN   \n",
       "17            -122.394203     1667    Customer                     NaN   \n",
       "18            -122.394203     3114  Subscriber                     NaN   \n",
       "19            -122.414817     1473  Subscriber                     NaN   \n",
       "\n",
       "   rental_access_method   duration  \n",
       "0                   NaN  22.252778  \n",
       "1                   NaN  21.888889  \n",
       "2                   NaN  12.713333  \n",
       "3                   NaN  17.270000  \n",
       "4                   NaN  12.111944  \n",
       "5                   NaN   2.562778  \n",
       "6                   NaN   1.251944  \n",
       "7                   NaN   1.203889  \n",
       "8                   NaN   1.152778  \n",
       "9                   NaN   1.177222  \n",
       "10                  NaN   0.914444  \n",
       "11                  NaN   0.882500  \n",
       "12                  NaN   0.606389  \n",
       "13                  NaN   0.602778  \n",
       "14                  NaN   0.749167  \n",
       "15                  NaN   0.428889  \n",
       "16                  NaN   0.409444  \n",
       "17                  NaN   0.388056  \n",
       "18                  NaN   0.425556  \n",
       "19                  NaN   0.337778  "
      ]
     },
     "execution_count": 21,
     "metadata": {},
     "output_type": "execute_result"
    }
   ],
   "source": [
    "df_clean.head(20)"
   ]
  },
  {
   "cell_type": "markdown",
   "metadata": {},
   "source": [
    "***Data columns={start_time and end_time} have faulty datatypes because they should have been date values***\n",
    "\n",
    "*Define*\n",
    "- we can correct the datatype through the following code\n",
    "\n",
    "*Code*"
   ]
  },
  {
   "cell_type": "code",
   "execution_count": 22,
   "metadata": {},
   "outputs": [],
   "source": [
    "df_clean['start_time'] = pd.to_datetime(df_clean['start_time'])\n",
    "df_clean['end_time'] = pd.to_datetime(df_clean['end_time'])"
   ]
  },
  {
   "cell_type": "markdown",
   "metadata": {},
   "source": [
    "*Test*"
   ]
  },
  {
   "cell_type": "code",
   "execution_count": 23,
   "metadata": {},
   "outputs": [
    {
     "name": "stdout",
     "output_type": "stream",
     "text": [
      "<class 'pandas.core.frame.DataFrame'>\n",
      "RangeIndex: 4890404 entries, 0 to 4890403\n",
      "Data columns (total 15 columns):\n",
      " #   Column                   Dtype         \n",
      "---  ------                   -----         \n",
      " 0   start_time               datetime64[ns]\n",
      " 1   end_time                 datetime64[ns]\n",
      " 2   start_station_id         float64       \n",
      " 3   start_station_name       object        \n",
      " 4   start_station_latitude   float64       \n",
      " 5   start_station_longitude  float64       \n",
      " 6   end_station_id           float64       \n",
      " 7   end_station_name         object        \n",
      " 8   end_station_latitude     float64       \n",
      " 9   end_station_longitude    float64       \n",
      " 10  bike_id                  int64         \n",
      " 11  user_type                object        \n",
      " 12  bike_share_for_all_trip  object        \n",
      " 13  rental_access_method     object        \n",
      " 14  duration                 float64       \n",
      "dtypes: datetime64[ns](2), float64(7), int64(1), object(5)\n",
      "memory usage: 559.7+ MB\n"
     ]
    }
   ],
   "source": [
    "df_clean.info()"
   ]
  },
  {
   "cell_type": "markdown",
   "metadata": {},
   "source": [
    "##### There are some missing values in the following columns = {'rental_access_method' }\n",
    "\n",
    "*Define*\n",
    "\n",
    "- you can start by removing the ebtire column because\n",
    "\n",
    "*Code*"
   ]
  },
  {
   "cell_type": "code",
   "execution_count": 24,
   "metadata": {},
   "outputs": [],
   "source": [
    "df_clean.drop(columns ={'rental_access_method'}, axis = 1, inplace = True )"
   ]
  },
  {
   "cell_type": "markdown",
   "metadata": {},
   "source": [
    "*Test*"
   ]
  },
  {
   "cell_type": "code",
   "execution_count": 25,
   "metadata": {},
   "outputs": [
    {
     "name": "stdout",
     "output_type": "stream",
     "text": [
      "<class 'pandas.core.frame.DataFrame'>\n",
      "RangeIndex: 4890404 entries, 0 to 4890403\n",
      "Data columns (total 14 columns):\n",
      " #   Column                   Dtype         \n",
      "---  ------                   -----         \n",
      " 0   start_time               datetime64[ns]\n",
      " 1   end_time                 datetime64[ns]\n",
      " 2   start_station_id         float64       \n",
      " 3   start_station_name       object        \n",
      " 4   start_station_latitude   float64       \n",
      " 5   start_station_longitude  float64       \n",
      " 6   end_station_id           float64       \n",
      " 7   end_station_name         object        \n",
      " 8   end_station_latitude     float64       \n",
      " 9   end_station_longitude    float64       \n",
      " 10  bike_id                  int64         \n",
      " 11  user_type                object        \n",
      " 12  bike_share_for_all_trip  object        \n",
      " 13  duration                 float64       \n",
      "dtypes: datetime64[ns](2), float64(7), int64(1), object(4)\n",
      "memory usage: 522.4+ MB\n"
     ]
    }
   ],
   "source": [
    "df_clean.info()"
   ]
  },
  {
   "cell_type": "code",
   "execution_count": 26,
   "metadata": {},
   "outputs": [
    {
     "data": {
      "text/html": [
       "<div>\n",
       "<style scoped>\n",
       "    .dataframe tbody tr th:only-of-type {\n",
       "        vertical-align: middle;\n",
       "    }\n",
       "\n",
       "    .dataframe tbody tr th {\n",
       "        vertical-align: top;\n",
       "    }\n",
       "\n",
       "    .dataframe thead th {\n",
       "        text-align: right;\n",
       "    }\n",
       "</style>\n",
       "<table border=\"1\" class=\"dataframe\">\n",
       "  <thead>\n",
       "    <tr style=\"text-align: right;\">\n",
       "      <th></th>\n",
       "      <th>start_time</th>\n",
       "      <th>end_time</th>\n",
       "    </tr>\n",
       "  </thead>\n",
       "  <tbody>\n",
       "    <tr>\n",
       "      <th>count</th>\n",
       "      <td>762959</td>\n",
       "      <td>762959</td>\n",
       "    </tr>\n",
       "    <tr>\n",
       "      <th>unique</th>\n",
       "      <td>758245</td>\n",
       "      <td>758256</td>\n",
       "    </tr>\n",
       "    <tr>\n",
       "      <th>top</th>\n",
       "      <td>2019-07-30 07:59:17</td>\n",
       "      <td>2019-07-26 10:04:08</td>\n",
       "    </tr>\n",
       "    <tr>\n",
       "      <th>freq</th>\n",
       "      <td>5</td>\n",
       "      <td>4</td>\n",
       "    </tr>\n",
       "    <tr>\n",
       "      <th>first</th>\n",
       "      <td>2017-06-28 09:47:36.347000</td>\n",
       "      <td>2017-06-28 09:52:55.338000</td>\n",
       "    </tr>\n",
       "    <tr>\n",
       "      <th>last</th>\n",
       "      <td>2019-12-31 23:59:41</td>\n",
       "      <td>2020-01-01 10:37:57</td>\n",
       "    </tr>\n",
       "  </tbody>\n",
       "</table>\n",
       "</div>"
      ],
      "text/plain": [
       "                        start_time                    end_time\n",
       "count                       762959                      762959\n",
       "unique                      758245                      758256\n",
       "top            2019-07-30 07:59:17         2019-07-26 10:04:08\n",
       "freq                             5                           4\n",
       "first   2017-06-28 09:47:36.347000  2017-06-28 09:52:55.338000\n",
       "last           2019-12-31 23:59:41         2020-01-01 10:37:57"
      ]
     },
     "execution_count": 26,
     "metadata": {},
     "output_type": "execute_result"
    }
   ],
   "source": [
    "df_clean[df_clean['bike_share_for_all_trip'].isnull()][['start_time', 'end_time']].describe()\n"
   ]
  },
  {
   "cell_type": "markdown",
   "metadata": {},
   "source": [
    "***There are some missing values in the following columns = {'start_station_id', 'start_station_name', 'end_station_id', 'end_station_name', 'bike_share_for_all_trip'}***\n",
    "\n",
    "*Define* \n",
    "- We can drop the rows with null values.\n",
    "\n",
    "*Code*"
   ]
  },
  {
   "cell_type": "code",
   "execution_count": 27,
   "metadata": {},
   "outputs": [],
   "source": [
    "df_clean.dropna(axis = 0, inplace = True)"
   ]
  },
  {
   "cell_type": "markdown",
   "metadata": {},
   "source": [
    "*Test*"
   ]
  },
  {
   "cell_type": "code",
   "execution_count": 28,
   "metadata": {},
   "outputs": [
    {
     "name": "stdout",
     "output_type": "stream",
     "text": [
      "<class 'pandas.core.frame.DataFrame'>\n",
      "Int64Index: 4114929 entries, 519700 to 4738891\n",
      "Data columns (total 14 columns):\n",
      " #   Column                   Dtype         \n",
      "---  ------                   -----         \n",
      " 0   start_time               datetime64[ns]\n",
      " 1   end_time                 datetime64[ns]\n",
      " 2   start_station_id         float64       \n",
      " 3   start_station_name       object        \n",
      " 4   start_station_latitude   float64       \n",
      " 5   start_station_longitude  float64       \n",
      " 6   end_station_id           float64       \n",
      " 7   end_station_name         object        \n",
      " 8   end_station_latitude     float64       \n",
      " 9   end_station_longitude    float64       \n",
      " 10  bike_id                  int64         \n",
      " 11  user_type                object        \n",
      " 12  bike_share_for_all_trip  object        \n",
      " 13  duration                 float64       \n",
      "dtypes: datetime64[ns](2), float64(7), int64(1), object(4)\n",
      "memory usage: 470.9+ MB\n"
     ]
    }
   ],
   "source": [
    "df_clean.info()"
   ]
  },
  {
   "cell_type": "code",
   "execution_count": 29,
   "metadata": {},
   "outputs": [
    {
     "data": {
      "text/plain": [
       "start_time                 0\n",
       "end_time                   0\n",
       "start_station_id           0\n",
       "start_station_name         0\n",
       "start_station_latitude     0\n",
       "start_station_longitude    0\n",
       "end_station_id             0\n",
       "end_station_name           0\n",
       "end_station_latitude       0\n",
       "end_station_longitude      0\n",
       "bike_id                    0\n",
       "user_type                  0\n",
       "bike_share_for_all_trip    0\n",
       "duration                   0\n",
       "dtype: int64"
      ]
     },
     "execution_count": 29,
     "metadata": {},
     "output_type": "execute_result"
    }
   ],
   "source": [
    "df_clean.isnull().sum()"
   ]
  },
  {
   "cell_type": "markdown",
   "metadata": {},
   "source": [
    "***start_station_id and end_station have faulty datatypes.***\n",
    "\n",
    "*Define*\n",
    "-  We must change them into integer values.\n",
    "\n",
    "*Code*"
   ]
  },
  {
   "cell_type": "code",
   "execution_count": 30,
   "metadata": {},
   "outputs": [],
   "source": [
    "df_clean[['start_station_id','end_station_id']] = df_clean[['start_station_id','end_station_id']].astype(int)"
   ]
  },
  {
   "cell_type": "markdown",
   "metadata": {},
   "source": [
    "*Test*"
   ]
  },
  {
   "cell_type": "code",
   "execution_count": 31,
   "metadata": {},
   "outputs": [
    {
     "name": "stdout",
     "output_type": "stream",
     "text": [
      "<class 'pandas.core.frame.DataFrame'>\n",
      "Int64Index: 4114929 entries, 519700 to 4738891\n",
      "Data columns (total 14 columns):\n",
      " #   Column                   Dtype         \n",
      "---  ------                   -----         \n",
      " 0   start_time               datetime64[ns]\n",
      " 1   end_time                 datetime64[ns]\n",
      " 2   start_station_id         int32         \n",
      " 3   start_station_name       object        \n",
      " 4   start_station_latitude   float64       \n",
      " 5   start_station_longitude  float64       \n",
      " 6   end_station_id           int32         \n",
      " 7   end_station_name         object        \n",
      " 8   end_station_latitude     float64       \n",
      " 9   end_station_longitude    float64       \n",
      " 10  bike_id                  int64         \n",
      " 11  user_type                object        \n",
      " 12  bike_share_for_all_trip  object        \n",
      " 13  duration                 float64       \n",
      "dtypes: datetime64[ns](2), float64(5), int32(2), int64(1), object(4)\n",
      "memory usage: 439.5+ MB\n"
     ]
    }
   ],
   "source": [
    "df_clean.info()"
   ]
  },
  {
   "cell_type": "markdown",
   "metadata": {},
   "source": [
    "### Reassessment of the Data\n",
    "\n",
    "- I want to check for the last time if there are any inconsistencies in the data."
   ]
  },
  {
   "cell_type": "code",
   "execution_count": 32,
   "metadata": {},
   "outputs": [
    {
     "data": {
      "text/html": [
       "<div>\n",
       "<style scoped>\n",
       "    .dataframe tbody tr th:only-of-type {\n",
       "        vertical-align: middle;\n",
       "    }\n",
       "\n",
       "    .dataframe tbody tr th {\n",
       "        vertical-align: top;\n",
       "    }\n",
       "\n",
       "    .dataframe thead th {\n",
       "        text-align: right;\n",
       "    }\n",
       "</style>\n",
       "<table border=\"1\" class=\"dataframe\">\n",
       "  <thead>\n",
       "    <tr style=\"text-align: right;\">\n",
       "      <th></th>\n",
       "      <th>start_station_id</th>\n",
       "      <th>start_station_latitude</th>\n",
       "      <th>start_station_longitude</th>\n",
       "      <th>end_station_id</th>\n",
       "      <th>end_station_latitude</th>\n",
       "      <th>end_station_longitude</th>\n",
       "      <th>bike_id</th>\n",
       "      <th>duration</th>\n",
       "    </tr>\n",
       "  </thead>\n",
       "  <tbody>\n",
       "    <tr>\n",
       "      <th>count</th>\n",
       "      <td>4.114929e+06</td>\n",
       "      <td>4.114929e+06</td>\n",
       "      <td>4.114929e+06</td>\n",
       "      <td>4.114929e+06</td>\n",
       "      <td>4.114929e+06</td>\n",
       "      <td>4.114929e+06</td>\n",
       "      <td>4.114929e+06</td>\n",
       "      <td>4.114929e+06</td>\n",
       "    </tr>\n",
       "    <tr>\n",
       "      <th>mean</th>\n",
       "      <td>1.336637e+02</td>\n",
       "      <td>3.776945e+01</td>\n",
       "      <td>-1.223536e+02</td>\n",
       "      <td>1.310528e+02</td>\n",
       "      <td>3.776918e+01</td>\n",
       "      <td>-1.223516e+02</td>\n",
       "      <td>3.666260e+03</td>\n",
       "      <td>2.299067e-01</td>\n",
       "    </tr>\n",
       "    <tr>\n",
       "      <th>std</th>\n",
       "      <td>1.129648e+02</td>\n",
       "      <td>1.020171e-01</td>\n",
       "      <td>1.445134e-01</td>\n",
       "      <td>1.124019e+02</td>\n",
       "      <td>1.633245e-01</td>\n",
       "      <td>4.378666e-01</td>\n",
       "      <td>3.130489e+03</td>\n",
       "      <td>5.889720e-01</td>\n",
       "    </tr>\n",
       "    <tr>\n",
       "      <th>min</th>\n",
       "      <td>3.000000e+00</td>\n",
       "      <td>0.000000e+00</td>\n",
       "      <td>-1.224952e+02</td>\n",
       "      <td>3.000000e+00</td>\n",
       "      <td>0.000000e+00</td>\n",
       "      <td>-1.224952e+02</td>\n",
       "      <td>4.000000e+00</td>\n",
       "      <td>1.694444e-02</td>\n",
       "    </tr>\n",
       "    <tr>\n",
       "      <th>25%</th>\n",
       "      <td>4.100000e+01</td>\n",
       "      <td>3.777041e+01</td>\n",
       "      <td>-1.224117e+02</td>\n",
       "      <td>3.600000e+01</td>\n",
       "      <td>3.777106e+01</td>\n",
       "      <td>-1.224113e+02</td>\n",
       "      <td>1.494000e+03</td>\n",
       "      <td>9.833333e-02</td>\n",
       "    </tr>\n",
       "    <tr>\n",
       "      <th>50%</th>\n",
       "      <td>9.600000e+01</td>\n",
       "      <td>3.778095e+01</td>\n",
       "      <td>-1.223983e+02</td>\n",
       "      <td>9.300000e+01</td>\n",
       "      <td>3.778107e+01</td>\n",
       "      <td>-1.223974e+02</td>\n",
       "      <td>2.879000e+03</td>\n",
       "      <td>1.563889e-01</td>\n",
       "    </tr>\n",
       "    <tr>\n",
       "      <th>75%</th>\n",
       "      <td>2.110000e+02</td>\n",
       "      <td>3.779625e+01</td>\n",
       "      <td>-1.222934e+02</td>\n",
       "      <td>2.030000e+02</td>\n",
       "      <td>3.779728e+01</td>\n",
       "      <td>-1.222935e+02</td>\n",
       "      <td>4.670000e+03</td>\n",
       "      <td>2.438889e-01</td>\n",
       "    </tr>\n",
       "    <tr>\n",
       "      <th>max</th>\n",
       "      <td>4.930000e+02</td>\n",
       "      <td>4.551000e+01</td>\n",
       "      <td>0.000000e+00</td>\n",
       "      <td>4.930000e+02</td>\n",
       "      <td>4.551000e+01</td>\n",
       "      <td>0.000000e+00</td>\n",
       "      <td>1.311200e+04</td>\n",
       "      <td>2.399056e+01</td>\n",
       "    </tr>\n",
       "  </tbody>\n",
       "</table>\n",
       "</div>"
      ],
      "text/plain": [
       "       start_station_id  start_station_latitude  start_station_longitude  \\\n",
       "count      4.114929e+06            4.114929e+06             4.114929e+06   \n",
       "mean       1.336637e+02            3.776945e+01            -1.223536e+02   \n",
       "std        1.129648e+02            1.020171e-01             1.445134e-01   \n",
       "min        3.000000e+00            0.000000e+00            -1.224952e+02   \n",
       "25%        4.100000e+01            3.777041e+01            -1.224117e+02   \n",
       "50%        9.600000e+01            3.778095e+01            -1.223983e+02   \n",
       "75%        2.110000e+02            3.779625e+01            -1.222934e+02   \n",
       "max        4.930000e+02            4.551000e+01             0.000000e+00   \n",
       "\n",
       "       end_station_id  end_station_latitude  end_station_longitude  \\\n",
       "count    4.114929e+06          4.114929e+06           4.114929e+06   \n",
       "mean     1.310528e+02          3.776918e+01          -1.223516e+02   \n",
       "std      1.124019e+02          1.633245e-01           4.378666e-01   \n",
       "min      3.000000e+00          0.000000e+00          -1.224952e+02   \n",
       "25%      3.600000e+01          3.777106e+01          -1.224113e+02   \n",
       "50%      9.300000e+01          3.778107e+01          -1.223974e+02   \n",
       "75%      2.030000e+02          3.779728e+01          -1.222935e+02   \n",
       "max      4.930000e+02          4.551000e+01           0.000000e+00   \n",
       "\n",
       "            bike_id      duration  \n",
       "count  4.114929e+06  4.114929e+06  \n",
       "mean   3.666260e+03  2.299067e-01  \n",
       "std    3.130489e+03  5.889720e-01  \n",
       "min    4.000000e+00  1.694444e-02  \n",
       "25%    1.494000e+03  9.833333e-02  \n",
       "50%    2.879000e+03  1.563889e-01  \n",
       "75%    4.670000e+03  2.438889e-01  \n",
       "max    1.311200e+04  2.399056e+01  "
      ]
     },
     "execution_count": 32,
     "metadata": {},
     "output_type": "execute_result"
    }
   ],
   "source": [
    "df_clean.describe()"
   ]
  },
  {
   "cell_type": "code",
   "execution_count": 33,
   "metadata": {},
   "outputs": [
    {
     "name": "stdout",
     "output_type": "stream",
     "text": [
      "<class 'pandas.core.frame.DataFrame'>\n",
      "Int64Index: 4114929 entries, 519700 to 4738891\n",
      "Data columns (total 14 columns):\n",
      " #   Column                   Dtype         \n",
      "---  ------                   -----         \n",
      " 0   start_time               datetime64[ns]\n",
      " 1   end_time                 datetime64[ns]\n",
      " 2   start_station_id         int32         \n",
      " 3   start_station_name       object        \n",
      " 4   start_station_latitude   float64       \n",
      " 5   start_station_longitude  float64       \n",
      " 6   end_station_id           int32         \n",
      " 7   end_station_name         object        \n",
      " 8   end_station_latitude     float64       \n",
      " 9   end_station_longitude    float64       \n",
      " 10  bike_id                  int64         \n",
      " 11  user_type                object        \n",
      " 12  bike_share_for_all_trip  object        \n",
      " 13  duration                 float64       \n",
      "dtypes: datetime64[ns](2), float64(5), int32(2), int64(1), object(4)\n",
      "memory usage: 439.5+ MB\n"
     ]
    }
   ],
   "source": [
    "df_clean.info()"
   ]
  },
  {
   "cell_type": "code",
   "execution_count": 34,
   "metadata": {},
   "outputs": [
    {
     "data": {
      "text/plain": [
       "No     3775899\n",
       "Yes     339030\n",
       "Name: bike_share_for_all_trip, dtype: int64"
      ]
     },
     "execution_count": 34,
     "metadata": {},
     "output_type": "execute_result"
    }
   ],
   "source": [
    "df_clean['bike_share_for_all_trip'].value_counts()"
   ]
  },
  {
   "cell_type": "code",
   "execution_count": 35,
   "metadata": {},
   "outputs": [
    {
     "data": {
      "text/plain": [
       "Subscriber    3435786\n",
       "Customer       679143\n",
       "Name: user_type, dtype: int64"
      ]
     },
     "execution_count": 35,
     "metadata": {},
     "output_type": "execute_result"
    }
   ],
   "source": [
    "df_clean['user_type'].value_counts()"
   ]
  },
  {
   "cell_type": "code",
   "execution_count": 36,
   "metadata": {},
   "outputs": [
    {
     "data": {
      "text/plain": [
       "Market St at 10th St                                         77007\n",
       "San Francisco Ferry Building (Harry Bridges Plaza)           75389\n",
       "Berry St at 4th St                                           73519\n",
       "San Francisco Caltrain Station 2  (Townsend St at 4th St)    73416\n",
       "San Francisco Caltrain (Townsend St at 4th St)               71935\n",
       "Montgomery St BART Station (Market St at 2nd St)             66091\n",
       "Powell St BART Station (Market St at 4th St)                 63916\n",
       "The Embarcadero at Sansome St                                60713\n",
       "Steuart St at Market St                                      58672\n",
       "Howard St at Beale St                                        55483\n",
       "Name: start_station_name, dtype: int64"
      ]
     },
     "execution_count": 36,
     "metadata": {},
     "output_type": "execute_result"
    }
   ],
   "source": [
    "df_clean['start_station_name'].value_counts()[:10]"
   ]
  },
  {
   "cell_type": "code",
   "execution_count": 37,
   "metadata": {},
   "outputs": [
    {
     "data": {
      "text/plain": [
       "San Francisco Caltrain Station 2  (Townsend St at 4th St)    101343\n",
       "San Francisco Ferry Building (Harry Bridges Plaza)            89571\n",
       "San Francisco Caltrain (Townsend St at 4th St)                88717\n",
       "Montgomery St BART Station (Market St at 2nd St)              80631\n",
       "Market St at 10th St                                          75777\n",
       "Berry St at 4th St                                            71774\n",
       "The Embarcadero at Sansome St                                 70877\n",
       "Powell St BART Station (Market St at 4th St)                  67899\n",
       "Steuart St at Market St                                       59689\n",
       "Powell St BART Station (Market St at 5th St)                  55708\n",
       "Name: end_station_name, dtype: int64"
      ]
     },
     "execution_count": 37,
     "metadata": {},
     "output_type": "execute_result"
    }
   ],
   "source": [
    "df_clean['end_station_name'].value_counts()[:10]"
   ]
  },
  {
   "cell_type": "markdown",
   "metadata": {},
   "source": [
    "### Exploring Dataset\n",
    "\n",
    "***Now, I will start exploring the data to understand the different relationships in that dataset. In addition, I will try to detect the existing patterns in the dataset.***\n",
    "\n",
    "\n",
    "For starters, I wanted to see percentage of people who did share their trips, and as we can see in the following plot, ninety percent don't. This means that the service is either not represented properly or that is is not easily accessible to them. \n"
   ]
  },
  {
   "cell_type": "code",
   "execution_count": 38,
   "metadata": {},
   "outputs": [
    {
     "data": {
      "image/png": "[encoded data removed]",
      "text/plain": [
       "<Figure size 432x288 with 1 Axes>"
      ]
     },
     "metadata": {
      "needs_background": "light"
     },
     "output_type": "display_data"
    }
   ],
   "source": [
    "#fig_dims = (3,3)\n",
    "#fig,ax = plt.subplots(figsize = fig_dims)\n",
    "sb.countplot(data = df_clean, x='bike_share_for_all_trip', color = base_color)\n",
    "plt.xlabel('bike share for all the trip')\n",
    "\n",
    "n_points = df_clean.shape[0]\n",
    "bike_share_counts = df_clean['bike_share_for_all_trip'].value_counts()\n",
    "locs, labels = plt.xticks()\n",
    "\n",
    "for loc,label in zip(locs, labels):\n",
    "    \n",
    "    count = bike_share_counts[label.get_text()]\n",
    "    pct_string = '{:0.1}%'.format(100*count/n_points)\n",
    "    \n",
    "    plt.text(loc, count-8, pct_string, ha = 'center', color = 'k')\n"
   ]
  },
  {
   "cell_type": "markdown",
   "metadata": {},
   "source": [
    "\n",
    "Then I want to represent the different kinds of user types and their percentages. There are two different kinds, subscribers and customers, and is is clear that there are more subscribers than customers.  "
   ]
  },
  {
   "cell_type": "code",
   "execution_count": 39,
   "metadata": {},
   "outputs": [
    {
     "data": {
      "image/png": "[encoded data removed]",
      "text/plain": [
       "<Figure size 432x288 with 1 Axes>"
      ]
     },
     "metadata": {
      "needs_background": "light"
     },
     "output_type": "display_data"
    }
   ],
   "source": [
    "sb.countplot(data = df_clean, x='user_type', color = base_color )\n",
    "plt.xlabel('User Type')\n",
    "\n",
    "n_points = df_clean.shape[0]\n",
    "bike_share_counts = df_clean['user_type'].value_counts()\n",
    "locs, labels = plt.xticks()\n",
    "\n",
    "for loc,label in zip(locs, labels):\n",
    "    \n",
    "    count = bike_share_counts[label.get_text()]\n",
    "    pct_string = '{:0.1}%'.format(100*count/n_points)\n",
    "    \n",
    "    plt.text(loc, count-8, pct_string, ha = 'center', color = 'k')"
   ]
  },
  {
   "cell_type": "markdown",
   "metadata": {},
   "source": [
    "\n",
    "\n",
    "Lastly, I used the clustered bar chart to detect the relationship between the two features. The following plot shows that only subscribers share their trips. In my opinion, this should be reassessed because allowing nonsubscribers to share their trips can lead to an increase in subscribers. Eventually, this might lead to greater profit. \n",
    "\n",
    "In additon, there are very little people who do share their trips. This means that the process of sharing trips might be confusing or tiring; thus, it might be a good idea to reassess the process of sharing."
   ]
  },
  {
   "cell_type": "code",
   "execution_count": 40,
   "metadata": {},
   "outputs": [
    {
     "data": {
      "text/plain": [
       "user_type   bike_share_for_all_trip\n",
       "Customer    No                          679143\n",
       "Subscriber  No                         3096756\n",
       "            Yes                         339030\n",
       "dtype: int64"
      ]
     },
     "execution_count": 40,
     "metadata": {},
     "output_type": "execute_result"
    }
   ],
   "source": [
    "grouped_var = df_clean.groupby(['user_type','bike_share_for_all_trip']).size()\n",
    "grouped_var"
   ]
  },
  {
   "cell_type": "code",
   "execution_count": 41,
   "metadata": {},
   "outputs": [
    {
     "data": {
      "text/html": [
       "<div>\n",
       "<style scoped>\n",
       "    .dataframe tbody tr th:only-of-type {\n",
       "        vertical-align: middle;\n",
       "    }\n",
       "\n",
       "    .dataframe tbody tr th {\n",
       "        vertical-align: top;\n",
       "    }\n",
       "\n",
       "    .dataframe thead th {\n",
       "        text-align: right;\n",
       "    }\n",
       "</style>\n",
       "<table border=\"1\" class=\"dataframe\">\n",
       "  <thead>\n",
       "    <tr style=\"text-align: right;\">\n",
       "      <th></th>\n",
       "      <th>user_type</th>\n",
       "      <th>bike_share_for_all_trip</th>\n",
       "      <th>count</th>\n",
       "    </tr>\n",
       "  </thead>\n",
       "  <tbody>\n",
       "    <tr>\n",
       "      <th>0</th>\n",
       "      <td>Customer</td>\n",
       "      <td>No</td>\n",
       "      <td>679143</td>\n",
       "    </tr>\n",
       "    <tr>\n",
       "      <th>1</th>\n",
       "      <td>Subscriber</td>\n",
       "      <td>No</td>\n",
       "      <td>3096756</td>\n",
       "    </tr>\n",
       "    <tr>\n",
       "      <th>2</th>\n",
       "      <td>Subscriber</td>\n",
       "      <td>Yes</td>\n",
       "      <td>339030</td>\n",
       "    </tr>\n",
       "  </tbody>\n",
       "</table>\n",
       "</div>"
      ],
      "text/plain": [
       "    user_type bike_share_for_all_trip    count\n",
       "0    Customer                      No   679143\n",
       "1  Subscriber                      No  3096756\n",
       "2  Subscriber                     Yes   339030"
      ]
     },
     "execution_count": 41,
     "metadata": {},
     "output_type": "execute_result"
    }
   ],
   "source": [
    "grouped_var = grouped_var.reset_index(name = 'count')\n",
    "grouped_var"
   ]
  },
  {
   "cell_type": "code",
   "execution_count": 48,
   "metadata": {},
   "outputs": [
    {
     "data": {
      "text/plain": [
       "<matplotlib.axes._subplots.AxesSubplot at 0x20c43ade708>"
      ]
     },
     "execution_count": 48,
     "metadata": {},
     "output_type": "execute_result"
    },
    {
     "data": {
      "image/png": "[encoded data removed]",
      "text/plain": [
       "<Figure size 432x288 with 1 Axes>"
      ]
     },
     "metadata": {
      "needs_background": "light"
     },
     "output_type": "display_data"
    }
   ],
   "source": [
    "sb.countplot(data = df_clean, x = 'user_type', hue = 'bike_share_for_all_trip', palette = 'Set2')"
   ]
  },
  {
   "cell_type": "markdown",
   "metadata": {},
   "source": [
    "\n",
    "Now, I aim to explore the most frequently visited stations. I can see that \n"
   ]
  },
  {
   "cell_type": "code",
   "execution_count": 57,
   "metadata": {},
   "outputs": [
    {
     "data": {
      "text/plain": [
       "Text(0, 0.5, \"Starting Station's Name \")"
      ]
     },
     "execution_count": 57,
     "metadata": {},
     "output_type": "execute_result"
    },
    {
     "data": {
      "image/png": "[encoded data removed]",
      "text/plain": [
       "<Figure size 432x288 with 1 Axes>"
      ]
     },
     "metadata": {
      "needs_background": "light"
     },
     "output_type": "display_data"
    }
   ],
   "source": [
    "ordered_values = df_clean['start_station_name'].value_counts()[:10].index\n",
    "\n",
    "sb.countplot(data = df_clean , y= 'start_station_name', color = base_color, order = ordered_values )\n",
    "plt.xlabel('Frequency')\n",
    "plt.ylabel('Starting Station\\'s Name')"
   ]
  },
  {
   "cell_type": "code",
   "execution_count": 58,
   "metadata": {},
   "outputs": [
    {
     "data": {
      "text/plain": [
       "Text(0, 0.5, \"Ending Station's Name\")"
      ]
     },
     "execution_count": 58,
     "metadata": {},
     "output_type": "execute_result"
    },
    {
     "data": {
      "image/png": "[encoded data removed]",
      "text/plain": [
       "<Figure size 432x288 with 1 Axes>"
      ]
     },
     "metadata": {
      "needs_background": "light"
     },
     "output_type": "display_data"
    }
   ],
   "source": [
    "ordered_values = df_clean['end_station_name'].value_counts()[:10].index\n",
    "\n",
    "sb.countplot(data = df_clean , y= 'end_station_name', color = base_color, order = ordered_values )\n",
    "plt.xlabel('Frequency')\n",
    "plt.ylabel('Ending Station\\'s Name')"
   ]
  },
  {
   "cell_type": "code",
   "execution_count": null,
   "metadata": {},
   "outputs": [],
   "source": []
  },
  {
   "cell_type": "code",
   "execution_count": 43,
   "metadata": {},
   "outputs": [
    {
     "data": {
      "text/plain": [
       "count    4.114929e+06\n",
       "mean     2.299067e-01\n",
       "std      5.889720e-01\n",
       "min      1.694444e-02\n",
       "25%      9.833333e-02\n",
       "50%      1.563889e-01\n",
       "75%      2.438889e-01\n",
       "max      2.399056e+01\n",
       "Name: duration, dtype: float64"
      ]
     },
     "execution_count": 43,
     "metadata": {},
     "output_type": "execute_result"
    }
   ],
   "source": [
    "df_clean['duration'].describe()"
   ]
  },
  {
   "cell_type": "markdown",
   "metadata": {},
   "source": [
    "***We can see that this is severely right skeweness***"
   ]
  },
  {
   "cell_type": "code",
   "execution_count": 44,
   "metadata": {},
   "outputs": [
    {
     "data": {
      "image/png": "[encoded data removed]",
      "text/plain": [
       "<Figure size 432x288 with 1 Axes>"
      ]
     },
     "metadata": {
      "needs_background": "light"
     },
     "output_type": "display_data"
    }
   ],
   "source": [
    "#TODO: should I remove the information in the following cell?\n",
    "bins_edges = np.arange(0, df_clean.duration.max()+ 100, 100 )\n",
    "plt.hist(data = df_clean, x= 'duration', bins = bins_edges);\n"
   ]
  },
  {
   "cell_type": "code",
   "execution_count": 45,
   "metadata": {},
   "outputs": [
    {
     "data": {
      "text/plain": [
       "<matplotlib.axes._subplots.AxesSubplot at 0x20c26428488>"
      ]
     },
     "execution_count": 45,
     "metadata": {},
     "output_type": "execute_result"
    },
    {
     "data": {
      "image/png": "[encoded data removed]",
      "text/plain": [
       "<Figure size 432x288 with 1 Axes>"
      ]
     },
     "metadata": {
      "needs_background": "light"
     },
     "output_type": "display_data"
    }
   ],
   "source": [
    "sb.distplot(df_clean.duration)"
   ]
  },
  {
   "cell_type": "markdown",
   "metadata": {},
   "source": [
    "***For now, I will check for ***"
   ]
  },
  {
   "cell_type": "code",
   "execution_count": null,
   "metadata": {},
   "outputs": [],
   "source": []
  },
  {
   "cell_type": "code",
   "execution_count": 46,
   "metadata": {},
   "outputs": [],
   "source": [
    "# fontsize=12"
   ]
  }
 ],
 "metadata": {
  "kernelspec": {
   "display_name": "Python 3",
   "language": "python",
   "name": "python3"
  },
  "language_info": {
   "codemirror_mode": {
    "name": "ipython",
    "version": 3
   },
   "file_extension": ".py",
   "mimetype": "text/x-python",
   "name": "python",
   "nbconvert_exporter": "python",
   "pygments_lexer": "ipython3",
   "version": "3.7.7"
  }
 },
 "nbformat": 4,
 "nbformat_minor": 4
}
